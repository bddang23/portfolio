{
 "cells": [
  {
   "cell_type": "code",
   "execution_count": 158,
   "id": "ac2f0e52",
   "metadata": {},
   "outputs": [
    {
     "name": "stdout",
     "output_type": "stream",
     "text": [
      "Mean:     53.42\n",
      "Median:   [12, 15]\n",
      "Median:   55.00\n",
      "Std:      30.15\n"
     ]
    }
   ],
   "source": [
    "data =[85, 61, 48, 82, 64, 100, 19, 7, 26, 90, 4, 97, 77, 74, 80, 37, 17, 93, 81, 96, 16, 39, 30, 86, 87, 42, 33, 69, 76, 100, 67, 78, 74, 83, 12, 55, 10, 24, 15, 19, 31, 31, 36, 84, 12, 54, 97, 45, 60, 87, 28, 83, 46, 81, 83, 30, 67, 80, 30, 99, 35, 85, 19, 61, 56, 36, 66, 86, 12, 76, 35, 60, 15, 36, 48, 3, 50, 82, 91, 45, 35, 15, 13, 87, 29, 76, 23, 8, 79, 6, 34, 15, 82, 94, 12, 7, 64, 100, 96]\n",
    "\n",
    "#find the sum and length for later use in function\n",
    "sum=0\n",
    "length=0\n",
    "for x in data:\n",
    "    sum+=x\n",
    "    length+=1\n",
    "\n",
    "#arrange data by Bubble sort for median\n",
    "for i in range(0,length-1):\n",
    "    for j in range(0,length-1-i):\n",
    "        if (data[j] > data[j+1]):\n",
    "            temp = data[j]\n",
    "            data[j]=data[j+1]\n",
    "            data[j+1] = temp\n",
    "\n",
    "def find_mean():\n",
    "    mean = sum/length\n",
    "    return mean;\n",
    "\n",
    "def find_mode():\n",
    "    ctr=[0]*length\n",
    "    ctrLen=0\n",
    "    #counter keep track on element\n",
    "    for i in range(0,length):\n",
    "        for j in range(0,length):\n",
    "            if data[i]==data[j]:\n",
    "                ctr[i]+=1\n",
    "        ctrLen+=1        \n",
    "                \n",
    "    mode=[]\n",
    "    max=ctr[0]\n",
    "    #find the max number of element\n",
    "    for i in range(0,ctrLen):\n",
    "        if (max<ctr[i]):\n",
    "            max=ctr[i]\n",
    "    #then check if there are other mode\n",
    "    for i in range(0,ctrLen):     \n",
    "        if (max==ctr[i]):\n",
    "            if (data[i] in mode):\n",
    "                continue\n",
    "            else:\n",
    "                mode.append(data[i])\n",
    "            \n",
    "    return mode;\n",
    "\n",
    "def find_median(): \n",
    "    if length % 2==0:\n",
    "        median = (data[int(length/2)]+data[int(length/2)-1])/2\n",
    "    else:\n",
    "        median = data[int(length/2)]\n",
    "    return median;\n",
    "\n",
    "def find_std():\n",
    "    mean = find_mean()\n",
    "    deviation =0;\n",
    "    for x in data:\n",
    "        deviation += (x-mean)*(x-mean)\n",
    "        \n",
    "    std=(deviation/(length))**0.5\n",
    "    return std;\n",
    "\n",
    "\n",
    "mean = find_mean()\n",
    "mode = find_mode()\n",
    "median = find_median()\n",
    "std = find_std()\n",
    "\n",
    "print(f\"{'Mean:':<8} {mean:6.2f}\")\n",
    "print(f\"{'Median:':<9}\", mode)\n",
    "print(f\"{'Median:':<8} {median:6.2f}\")\n",
    "print(f\"{'Std:':<8} {std:6.2f}\")"
   ]
  },
  {
   "cell_type": "code",
   "execution_count": null,
   "id": "69f3ba65",
   "metadata": {},
   "outputs": [],
   "source": []
  }
 ],
 "metadata": {
  "kernelspec": {
   "display_name": "Python 3",
   "language": "python",
   "name": "python3"
  },
  "language_info": {
   "codemirror_mode": {
    "name": "ipython",
    "version": 3
   },
   "file_extension": ".py",
   "mimetype": "text/x-python",
   "name": "python",
   "nbconvert_exporter": "python",
   "pygments_lexer": "ipython3",
   "version": "3.8.8"
  }
 },
 "nbformat": 4,
 "nbformat_minor": 5
}
