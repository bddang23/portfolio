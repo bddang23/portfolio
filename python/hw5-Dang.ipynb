{
 "cells": [
  {
   "cell_type": "code",
   "execution_count": 1,
   "id": "47c78fd0",
   "metadata": {},
   "outputs": [],
   "source": [
    "import pandas as pd\n",
    "import seaborn as sns\n",
    "from sklearn.linear_model import LinearRegression\n",
    "from sklearn.model_selection import train_test_split\n",
    "from sklearn.feature_selection import SelectKBest\n",
    "from sklearn.feature_selection import mutual_info_regression\n",
    "from sklearn.preprocessing import StandardScaler\n",
    "import matplotlib.pyplot as plt\n"
   ]
  },
  {
   "cell_type": "markdown",
   "id": "6a64c946",
   "metadata": {},
   "source": [
    "# Question 1 - Blood Pressure"
   ]
  },
  {
   "cell_type": "code",
   "execution_count": 2,
   "id": "b9c8ed77",
   "metadata": {},
   "outputs": [],
   "source": [
    "bp = pd.read_csv('bloodpres.txt', sep=\" \")"
   ]
  },
  {
   "cell_type": "code",
   "execution_count": 3,
   "id": "1e58c459",
   "metadata": {
    "scrolled": true
   },
   "outputs": [
    {
     "data": {
      "text/html": [
       "<div>\n",
       "<style scoped>\n",
       "    .dataframe tbody tr th:only-of-type {\n",
       "        vertical-align: middle;\n",
       "    }\n",
       "\n",
       "    .dataframe tbody tr th {\n",
       "        vertical-align: top;\n",
       "    }\n",
       "\n",
       "    .dataframe thead th {\n",
       "        text-align: right;\n",
       "    }\n",
       "</style>\n",
       "<table border=\"1\" class=\"dataframe\">\n",
       "  <thead>\n",
       "    <tr style=\"text-align: right;\">\n",
       "      <th></th>\n",
       "      <th>BP</th>\n",
       "      <th>Age</th>\n",
       "      <th>Weight</th>\n",
       "      <th>BSA</th>\n",
       "      <th>Dur</th>\n",
       "      <th>Pulse</th>\n",
       "      <th>Stress</th>\n",
       "    </tr>\n",
       "  </thead>\n",
       "  <tbody>\n",
       "    <tr>\n",
       "      <th>0</th>\n",
       "      <td>105</td>\n",
       "      <td>47</td>\n",
       "      <td>85.4</td>\n",
       "      <td>1.75</td>\n",
       "      <td>5.1</td>\n",
       "      <td>63</td>\n",
       "      <td>33</td>\n",
       "    </tr>\n",
       "    <tr>\n",
       "      <th>1</th>\n",
       "      <td>115</td>\n",
       "      <td>49</td>\n",
       "      <td>94.2</td>\n",
       "      <td>2.10</td>\n",
       "      <td>3.8</td>\n",
       "      <td>70</td>\n",
       "      <td>14</td>\n",
       "    </tr>\n",
       "    <tr>\n",
       "      <th>2</th>\n",
       "      <td>116</td>\n",
       "      <td>49</td>\n",
       "      <td>95.3</td>\n",
       "      <td>1.98</td>\n",
       "      <td>8.2</td>\n",
       "      <td>72</td>\n",
       "      <td>10</td>\n",
       "    </tr>\n",
       "    <tr>\n",
       "      <th>3</th>\n",
       "      <td>117</td>\n",
       "      <td>50</td>\n",
       "      <td>94.7</td>\n",
       "      <td>2.01</td>\n",
       "      <td>5.8</td>\n",
       "      <td>73</td>\n",
       "      <td>99</td>\n",
       "    </tr>\n",
       "    <tr>\n",
       "      <th>4</th>\n",
       "      <td>112</td>\n",
       "      <td>51</td>\n",
       "      <td>89.4</td>\n",
       "      <td>1.89</td>\n",
       "      <td>7.0</td>\n",
       "      <td>72</td>\n",
       "      <td>95</td>\n",
       "    </tr>\n",
       "  </tbody>\n",
       "</table>\n",
       "</div>"
      ],
      "text/plain": [
       "    BP  Age  Weight   BSA  Dur  Pulse  Stress\n",
       "0  105   47    85.4  1.75  5.1     63      33\n",
       "1  115   49    94.2  2.10  3.8     70      14\n",
       "2  116   49    95.3  1.98  8.2     72      10\n",
       "3  117   50    94.7  2.01  5.8     73      99\n",
       "4  112   51    89.4  1.89  7.0     72      95"
      ]
     },
     "execution_count": 3,
     "metadata": {},
     "output_type": "execute_result"
    }
   ],
   "source": [
    "bp.head()"
   ]
  },
  {
   "cell_type": "code",
   "execution_count": 4,
   "id": "2e97be34",
   "metadata": {},
   "outputs": [
    {
     "data": {
      "text/plain": [
       "(20, 7)"
      ]
     },
     "execution_count": 4,
     "metadata": {},
     "output_type": "execute_result"
    }
   ],
   "source": [
    "bp.shape"
   ]
  },
  {
   "cell_type": "markdown",
   "id": "9203e491",
   "metadata": {},
   "source": [
    "## 1. Show highest correlation"
   ]
  },
  {
   "cell_type": "code",
   "execution_count": 5,
   "id": "452f4aa5",
   "metadata": {},
   "outputs": [
    {
     "data": {
      "text/plain": [
       "<AxesSubplot:>"
      ]
     },
     "execution_count": 5,
     "metadata": {},
     "output_type": "execute_result"
    },
    {
     "data": {
      "image/png": "[encoded data removed]",
      "text/plain": [
       "<Figure size 432x288 with 2 Axes>"
      ]
     },
     "metadata": {
      "needs_background": "light"
     },
     "output_type": "display_data"
    }
   ],
   "source": [
    "sns.heatmap(bp.corr(),cmap='Blues', annot=True)"
   ]
  },
  {
   "cell_type": "code",
   "execution_count": 6,
   "id": "80e5460f",
   "metadata": {},
   "outputs": [
    {
     "data": {
      "text/plain": [
       "Age       0.659093\n",
       "Weight    0.950068\n",
       "BSA       0.865879\n",
       "Dur       0.292834\n",
       "Pulse     0.721413\n",
       "Name: BP, dtype: float64"
      ]
     },
     "execution_count": 6,
     "metadata": {},
     "output_type": "execute_result"
    }
   ],
   "source": [
    "bpcorr = bp.corr()['BP']\n",
    "bpcorr.drop('BP',inplace=True)\n",
    "bpcorr.head()"
   ]
  },
  {
   "cell_type": "code",
   "execution_count": 7,
   "id": "79f81129",
   "metadata": {},
   "outputs": [
    {
     "name": "stdout",
     "output_type": "stream",
     "text": [
      "Weight\n"
     ]
    },
    {
     "data": {
      "text/plain": [
       "0.9500676517041239"
      ]
     },
     "execution_count": 7,
     "metadata": {},
     "output_type": "execute_result"
    }
   ],
   "source": [
    "print(bpcorr.idxmax())\n",
    "bpcorr.max()"
   ]
  },
  {
   "cell_type": "markdown",
   "id": "d5a490c5",
   "metadata": {},
   "source": [
    "## 2. Simple Linear Regression"
   ]
  },
  {
   "cell_type": "code",
   "execution_count": 8,
   "id": "6b6a4ba9",
   "metadata": {},
   "outputs": [],
   "source": [
    "x=bp[['Weight']]\n",
    "y=bp[['BP']]\n",
    "x_train, x_test, y_train, y_test = train_test_split(x, y, train_size=0.70, test_size=0.30, random_state=42)"
   ]
  },
  {
   "cell_type": "code",
   "execution_count": 9,
   "id": "8b5e4604",
   "metadata": {},
   "outputs": [
    {
     "data": {
      "text/plain": [
       "<seaborn.axisgrid.FacetGrid at 0x1f583ac1b50>"
      ]
     },
     "execution_count": 9,
     "metadata": {},
     "output_type": "execute_result"
    },
    {
     "data": {
      "image/png": "[encoded data removed]",
      "text/plain": [
       "<Figure size 360x360 with 1 Axes>"
      ]
     },
     "metadata": {
      "needs_background": "light"
     },
     "output_type": "display_data"
    }
   ],
   "source": [
    "sns.lmplot(data=bp, x='Weight', y='BP', ci=None,\n",
    "           scatter_kws={'s':5}, line_kws={'color':'green'})"
   ]
  },
  {
   "cell_type": "code",
   "execution_count": 10,
   "id": "d07a690b",
   "metadata": {},
   "outputs": [
    {
     "data": {
      "text/plain": [
       "LinearRegression()"
      ]
     },
     "execution_count": 10,
     "metadata": {},
     "output_type": "execute_result"
    }
   ],
   "source": [
    "model = LinearRegression()\n",
    "model.fit(x_train, y_train)"
   ]
  },
  {
   "cell_type": "code",
   "execution_count": 11,
   "id": "b2940a7e",
   "metadata": {},
   "outputs": [
    {
     "data": {
      "text/plain": [
       "0.8790827284472343"
      ]
     },
     "execution_count": 11,
     "metadata": {},
     "output_type": "execute_result"
    }
   ],
   "source": [
    "model.score(x_test, y_test)"
   ]
  },
  {
   "cell_type": "code",
   "execution_count": 12,
   "id": "55e42c96",
   "metadata": {},
   "outputs": [
    {
     "data": {
      "text/plain": [
       "0.9001944583338779"
      ]
     },
     "execution_count": 12,
     "metadata": {},
     "output_type": "execute_result"
    }
   ],
   "source": [
    "model.score(x_train, y_train)"
   ]
  },
  {
   "cell_type": "markdown",
   "id": "e98524d3",
   "metadata": {},
   "source": [
    "+ R squared value test data: 0.8791\n",
    "+ R squared value train data: 0.9001"
   ]
  },
  {
   "cell_type": "code",
   "execution_count": 13,
   "id": "a821a7f3",
   "metadata": {},
   "outputs": [
    {
     "data": {
      "text/plain": [
       "array([[104.57760821],\n",
       "       [116.10205921],\n",
       "       [116.10205921],\n",
       "       [115.72213226],\n",
       "       [109.39001632],\n",
       "       [122.43417515]])"
      ]
     },
     "execution_count": 13,
     "metadata": {},
     "output_type": "execute_result"
    }
   ],
   "source": [
    "y_predicted = model.predict(x_test)\n",
    "y_predicted"
   ]
  },
  {
   "cell_type": "code",
   "execution_count": 14,
   "id": "a0c3093f",
   "metadata": {
    "scrolled": true
   },
   "outputs": [
    {
     "data": {
      "text/html": [
       "<div>\n",
       "<style scoped>\n",
       "    .dataframe tbody tr th:only-of-type {\n",
       "        vertical-align: middle;\n",
       "    }\n",
       "\n",
       "    .dataframe tbody tr th {\n",
       "        vertical-align: top;\n",
       "    }\n",
       "\n",
       "    .dataframe thead th {\n",
       "        text-align: right;\n",
       "    }\n",
       "</style>\n",
       "<table border=\"1\" class=\"dataframe\">\n",
       "  <thead>\n",
       "    <tr style=\"text-align: right;\">\n",
       "      <th></th>\n",
       "      <th>BP_predicted</th>\n",
       "    </tr>\n",
       "  </thead>\n",
       "  <tbody>\n",
       "    <tr>\n",
       "      <th>0</th>\n",
       "      <td>104.577608</td>\n",
       "    </tr>\n",
       "    <tr>\n",
       "      <th>1</th>\n",
       "      <td>116.102059</td>\n",
       "    </tr>\n",
       "    <tr>\n",
       "      <th>2</th>\n",
       "      <td>116.102059</td>\n",
       "    </tr>\n",
       "    <tr>\n",
       "      <th>3</th>\n",
       "      <td>115.722132</td>\n",
       "    </tr>\n",
       "    <tr>\n",
       "      <th>4</th>\n",
       "      <td>109.390016</td>\n",
       "    </tr>\n",
       "    <tr>\n",
       "      <th>5</th>\n",
       "      <td>122.434175</td>\n",
       "    </tr>\n",
       "  </tbody>\n",
       "</table>\n",
       "</div>"
      ],
      "text/plain": [
       "   BP_predicted\n",
       "0    104.577608\n",
       "1    116.102059\n",
       "2    116.102059\n",
       "3    115.722132\n",
       "4    109.390016\n",
       "5    122.434175"
      ]
     },
     "execution_count": 14,
     "metadata": {},
     "output_type": "execute_result"
    }
   ],
   "source": [
    "predicted = pd.DataFrame(y_predicted,columns=['BP_predicted'])\n",
    "predicted"
   ]
  },
  {
   "cell_type": "code",
   "execution_count": 15,
   "id": "e9d28d9f",
   "metadata": {},
   "outputs": [
    {
     "data": {
      "text/html": [
       "<div>\n",
       "<style scoped>\n",
       "    .dataframe tbody tr th:only-of-type {\n",
       "        vertical-align: middle;\n",
       "    }\n",
       "\n",
       "    .dataframe tbody tr th {\n",
       "        vertical-align: top;\n",
       "    }\n",
       "\n",
       "    .dataframe thead th {\n",
       "        text-align: right;\n",
       "    }\n",
       "</style>\n",
       "<table border=\"1\" class=\"dataframe\">\n",
       "  <thead>\n",
       "    <tr style=\"text-align: right;\">\n",
       "      <th></th>\n",
       "      <th>BP_predicted</th>\n",
       "      <th>Weight</th>\n",
       "      <th>BP</th>\n",
       "    </tr>\n",
       "  </thead>\n",
       "  <tbody>\n",
       "    <tr>\n",
       "      <th>0</th>\n",
       "      <td>104.577608</td>\n",
       "      <td>85.4</td>\n",
       "      <td>105</td>\n",
       "    </tr>\n",
       "    <tr>\n",
       "      <th>1</th>\n",
       "      <td>116.102059</td>\n",
       "      <td>94.5</td>\n",
       "      <td>113</td>\n",
       "    </tr>\n",
       "    <tr>\n",
       "      <th>2</th>\n",
       "      <td>116.102059</td>\n",
       "      <td>94.5</td>\n",
       "      <td>114</td>\n",
       "    </tr>\n",
       "    <tr>\n",
       "      <th>3</th>\n",
       "      <td>115.722132</td>\n",
       "      <td>94.2</td>\n",
       "      <td>115</td>\n",
       "    </tr>\n",
       "    <tr>\n",
       "      <th>4</th>\n",
       "      <td>109.390016</td>\n",
       "      <td>89.2</td>\n",
       "      <td>110</td>\n",
       "    </tr>\n",
       "    <tr>\n",
       "      <th>5</th>\n",
       "      <td>122.434175</td>\n",
       "      <td>99.5</td>\n",
       "      <td>121</td>\n",
       "    </tr>\n",
       "  </tbody>\n",
       "</table>\n",
       "</div>"
      ],
      "text/plain": [
       "   BP_predicted  Weight   BP\n",
       "0    104.577608    85.4  105\n",
       "1    116.102059    94.5  113\n",
       "2    116.102059    94.5  114\n",
       "3    115.722132    94.2  115\n",
       "4    109.390016    89.2  110\n",
       "5    122.434175    99.5  121"
      ]
     },
     "execution_count": 15,
     "metadata": {},
     "output_type": "execute_result"
    }
   ],
   "source": [
    "combine = predicted.join([x_test.reset_index(drop=True),\n",
    "                          y_test.reset_index(drop=True)])\n",
    "combine"
   ]
  },
  {
   "cell_type": "code",
   "execution_count": 16,
   "id": "b4fef19b",
   "metadata": {},
   "outputs": [
    {
     "data": {
      "text/html": [
       "<div>\n",
       "<style scoped>\n",
       "    .dataframe tbody tr th:only-of-type {\n",
       "        vertical-align: middle;\n",
       "    }\n",
       "\n",
       "    .dataframe tbody tr th {\n",
       "        vertical-align: top;\n",
       "    }\n",
       "\n",
       "    .dataframe thead th {\n",
       "        text-align: right;\n",
       "    }\n",
       "</style>\n",
       "<table border=\"1\" class=\"dataframe\">\n",
       "  <thead>\n",
       "    <tr style=\"text-align: right;\">\n",
       "      <th></th>\n",
       "      <th>Weight</th>\n",
       "      <th>BP_type</th>\n",
       "      <th>BP_value</th>\n",
       "    </tr>\n",
       "  </thead>\n",
       "  <tbody>\n",
       "    <tr>\n",
       "      <th>0</th>\n",
       "      <td>85.4</td>\n",
       "      <td>BP</td>\n",
       "      <td>105.000000</td>\n",
       "    </tr>\n",
       "    <tr>\n",
       "      <th>1</th>\n",
       "      <td>94.5</td>\n",
       "      <td>BP</td>\n",
       "      <td>113.000000</td>\n",
       "    </tr>\n",
       "    <tr>\n",
       "      <th>2</th>\n",
       "      <td>94.5</td>\n",
       "      <td>BP</td>\n",
       "      <td>114.000000</td>\n",
       "    </tr>\n",
       "    <tr>\n",
       "      <th>3</th>\n",
       "      <td>94.2</td>\n",
       "      <td>BP</td>\n",
       "      <td>115.000000</td>\n",
       "    </tr>\n",
       "    <tr>\n",
       "      <th>4</th>\n",
       "      <td>89.2</td>\n",
       "      <td>BP</td>\n",
       "      <td>110.000000</td>\n",
       "    </tr>\n",
       "    <tr>\n",
       "      <th>5</th>\n",
       "      <td>99.5</td>\n",
       "      <td>BP</td>\n",
       "      <td>121.000000</td>\n",
       "    </tr>\n",
       "    <tr>\n",
       "      <th>6</th>\n",
       "      <td>85.4</td>\n",
       "      <td>BP_predicted</td>\n",
       "      <td>104.577608</td>\n",
       "    </tr>\n",
       "    <tr>\n",
       "      <th>7</th>\n",
       "      <td>94.5</td>\n",
       "      <td>BP_predicted</td>\n",
       "      <td>116.102059</td>\n",
       "    </tr>\n",
       "    <tr>\n",
       "      <th>8</th>\n",
       "      <td>94.5</td>\n",
       "      <td>BP_predicted</td>\n",
       "      <td>116.102059</td>\n",
       "    </tr>\n",
       "    <tr>\n",
       "      <th>9</th>\n",
       "      <td>94.2</td>\n",
       "      <td>BP_predicted</td>\n",
       "      <td>115.722132</td>\n",
       "    </tr>\n",
       "    <tr>\n",
       "      <th>10</th>\n",
       "      <td>89.2</td>\n",
       "      <td>BP_predicted</td>\n",
       "      <td>109.390016</td>\n",
       "    </tr>\n",
       "    <tr>\n",
       "      <th>11</th>\n",
       "      <td>99.5</td>\n",
       "      <td>BP_predicted</td>\n",
       "      <td>122.434175</td>\n",
       "    </tr>\n",
       "  </tbody>\n",
       "</table>\n",
       "</div>"
      ],
      "text/plain": [
       "    Weight       BP_type    BP_value\n",
       "0     85.4            BP  105.000000\n",
       "1     94.5            BP  113.000000\n",
       "2     94.5            BP  114.000000\n",
       "3     94.2            BP  115.000000\n",
       "4     89.2            BP  110.000000\n",
       "5     99.5            BP  121.000000\n",
       "6     85.4  BP_predicted  104.577608\n",
       "7     94.5  BP_predicted  116.102059\n",
       "8     94.5  BP_predicted  116.102059\n",
       "9     94.2  BP_predicted  115.722132\n",
       "10    89.2  BP_predicted  109.390016\n",
       "11    99.5  BP_predicted  122.434175"
      ]
     },
     "execution_count": 16,
     "metadata": {},
     "output_type": "execute_result"
    }
   ],
   "source": [
    "melted = pd.melt(combine, id_vars=['Weight'], \n",
    "                 value_vars=['BP','BP_predicted'], \n",
    "                 var_name='BP_type',\n",
    "                 value_name='BP_value')\n",
    "melted"
   ]
  },
  {
   "cell_type": "code",
   "execution_count": 17,
   "id": "2c387944",
   "metadata": {
    "scrolled": false
   },
   "outputs": [
    {
     "data": {
      "text/plain": [
       "<seaborn.axisgrid.FacetGrid at 0x1f583b45d00>"
      ]
     },
     "execution_count": 17,
     "metadata": {},
     "output_type": "execute_result"
    },
    {
     "data": {
      "image/png": "[encoded data removed]",
      "text/plain": [
       "<Figure size 461.25x360 with 1 Axes>"
      ]
     },
     "metadata": {
      "needs_background": "light"
     },
     "output_type": "display_data"
    }
   ],
   "source": [
    "sns.relplot(data=melted, x='Weight', y='BP_value', \n",
    "            hue='BP_type')"
   ]
  },
  {
   "cell_type": "code",
   "execution_count": 18,
   "id": "978c83aa",
   "metadata": {
    "scrolled": true
   },
   "outputs": [
    {
     "data": {
      "image/png": "[encoded data removed]",
      "text/plain": [
       "<Figure size 432x288 with 1 Axes>"
      ]
     },
     "metadata": {
      "needs_background": "light"
     },
     "output_type": "display_data"
    }
   ],
   "source": [
    "plt.scatter(x_test,y_test)\n",
    "plt.plot(x_test,y_predicted)\n",
    "plt.show()"
   ]
  },
  {
   "cell_type": "markdown",
   "id": "0c6a9e24",
   "metadata": {},
   "source": [
    "## 3. Multiple Regression Model"
   ]
  },
  {
   "cell_type": "code",
   "execution_count": 19,
   "id": "ce69030a",
   "metadata": {},
   "outputs": [],
   "source": [
    "xCols = ['Age','Weight','BSA','Dur','Pulse','Stress']"
   ]
  },
  {
   "cell_type": "code",
   "execution_count": 20,
   "id": "958fdbb8",
   "metadata": {},
   "outputs": [],
   "source": [
    "scaler = StandardScaler()\n",
    "bp[xCols]=scaler.fit_transform(bp[xCols])"
   ]
  },
  {
   "cell_type": "code",
   "execution_count": 21,
   "id": "8259b7e4",
   "metadata": {},
   "outputs": [],
   "source": [
    "xtrain, xtest,ytrain,ytest = train_test_split(bp[xCols],bp['BP'], train_size=0.70, test_size=0.30, random_state=42)"
   ]
  },
  {
   "cell_type": "code",
   "execution_count": 22,
   "id": "2785e609",
   "metadata": {},
   "outputs": [
    {
     "data": {
      "text/plain": [
       "LinearRegression()"
      ]
     },
     "execution_count": 22,
     "metadata": {},
     "output_type": "execute_result"
    }
   ],
   "source": [
    "model.fit(xtrain, ytrain)"
   ]
  },
  {
   "cell_type": "code",
   "execution_count": 23,
   "id": "85f1a2e3",
   "metadata": {},
   "outputs": [
    {
     "data": {
      "text/plain": [
       "0.9965117389955014"
      ]
     },
     "execution_count": 23,
     "metadata": {},
     "output_type": "execute_result"
    }
   ],
   "source": [
    "model.score(xtrain,ytrain)"
   ]
  },
  {
   "cell_type": "code",
   "execution_count": 24,
   "id": "d25da317",
   "metadata": {},
   "outputs": [
    {
     "data": {
      "text/plain": [
       "0.9889422641142027"
      ]
     },
     "execution_count": 24,
     "metadata": {},
     "output_type": "execute_result"
    }
   ],
   "source": [
    "model.score(xtest,ytest)"
   ]
  },
  {
   "cell_type": "markdown",
   "id": "9cf88709",
   "metadata": {},
   "source": [
    "+ R squared value test data: 0.9889\n",
    "+ R squared value train data: 0.9965"
   ]
  },
  {
   "cell_type": "code",
   "execution_count": 25,
   "id": "56dda9a7",
   "metadata": {},
   "outputs": [
    {
     "data": {
      "text/plain": [
       "array([104.71363235, 112.45789062, 113.28238383, 115.57295833,\n",
       "       109.91172328, 120.41411393])"
      ]
     },
     "execution_count": 25,
     "metadata": {},
     "output_type": "execute_result"
    }
   ],
   "source": [
    "yPredicted=model.predict(xtest)\n",
    "yPredicted"
   ]
  },
  {
   "cell_type": "code",
   "execution_count": 26,
   "id": "150b2329",
   "metadata": {},
   "outputs": [],
   "source": [
    "predicted = pd.DataFrame(yPredicted, columns=['predictedBP'])"
   ]
  },
  {
   "cell_type": "code",
   "execution_count": 27,
   "id": "51fd5747",
   "metadata": {
    "scrolled": true
   },
   "outputs": [
    {
     "data": {
      "text/html": [
       "<div>\n",
       "<style scoped>\n",
       "    .dataframe tbody tr th:only-of-type {\n",
       "        vertical-align: middle;\n",
       "    }\n",
       "\n",
       "    .dataframe tbody tr th {\n",
       "        vertical-align: top;\n",
       "    }\n",
       "\n",
       "    .dataframe thead th {\n",
       "        text-align: right;\n",
       "    }\n",
       "</style>\n",
       "<table border=\"1\" class=\"dataframe\">\n",
       "  <thead>\n",
       "    <tr style=\"text-align: right;\">\n",
       "      <th></th>\n",
       "      <th>predictedBP</th>\n",
       "      <th>Age</th>\n",
       "      <th>Weight</th>\n",
       "      <th>BSA</th>\n",
       "      <th>Dur</th>\n",
       "      <th>Pulse</th>\n",
       "      <th>Stress</th>\n",
       "      <th>BP</th>\n",
       "    </tr>\n",
       "  </thead>\n",
       "  <tbody>\n",
       "    <tr>\n",
       "      <th>0</th>\n",
       "      <td>104.713632</td>\n",
       "      <td>-0.656488</td>\n",
       "      <td>-1.837008</td>\n",
       "      <td>-1.864293</td>\n",
       "      <td>-0.636072</td>\n",
       "      <td>-1.780535</td>\n",
       "      <td>-0.562974</td>\n",
       "      <td>105</td>\n",
       "    </tr>\n",
       "    <tr>\n",
       "      <th>1</th>\n",
       "      <td>112.457891</td>\n",
       "      <td>-1.066793</td>\n",
       "      <td>0.336825</td>\n",
       "      <td>-0.736696</td>\n",
       "      <td>-1.018672</td>\n",
       "      <td>0.107911</td>\n",
       "      <td>-1.143930</td>\n",
       "      <td>113</td>\n",
       "    </tr>\n",
       "    <tr>\n",
       "      <th>2</th>\n",
       "      <td>113.282384</td>\n",
       "      <td>-1.066793</td>\n",
       "      <td>0.336825</td>\n",
       "      <td>-0.135312</td>\n",
       "      <td>0.463902</td>\n",
       "      <td>-0.161867</td>\n",
       "      <td>1.152230</td>\n",
       "      <td>114</td>\n",
       "    </tr>\n",
       "    <tr>\n",
       "      <th>3</th>\n",
       "      <td>115.572958</td>\n",
       "      <td>0.164122</td>\n",
       "      <td>0.265160</td>\n",
       "      <td>0.766766</td>\n",
       "      <td>-1.257797</td>\n",
       "      <td>0.107911</td>\n",
       "      <td>-1.088601</td>\n",
       "      <td>115</td>\n",
       "    </tr>\n",
       "    <tr>\n",
       "      <th>4</th>\n",
       "      <td>109.911723</td>\n",
       "      <td>0.164122</td>\n",
       "      <td>-0.929254</td>\n",
       "      <td>-1.262908</td>\n",
       "      <td>0.320427</td>\n",
       "      <td>-0.161867</td>\n",
       "      <td>0.239299</td>\n",
       "      <td>110</td>\n",
       "    </tr>\n",
       "    <tr>\n",
       "      <th>5</th>\n",
       "      <td>120.414114</td>\n",
       "      <td>-0.246183</td>\n",
       "      <td>1.531238</td>\n",
       "      <td>1.894362</td>\n",
       "      <td>1.372577</td>\n",
       "      <td>0.377689</td>\n",
       "      <td>-1.199260</td>\n",
       "      <td>121</td>\n",
       "    </tr>\n",
       "  </tbody>\n",
       "</table>\n",
       "</div>"
      ],
      "text/plain": [
       "   predictedBP       Age    Weight       BSA       Dur     Pulse    Stress  \\\n",
       "0   104.713632 -0.656488 -1.837008 -1.864293 -0.636072 -1.780535 -0.562974   \n",
       "1   112.457891 -1.066793  0.336825 -0.736696 -1.018672  0.107911 -1.143930   \n",
       "2   113.282384 -1.066793  0.336825 -0.135312  0.463902 -0.161867  1.152230   \n",
       "3   115.572958  0.164122  0.265160  0.766766 -1.257797  0.107911 -1.088601   \n",
       "4   109.911723  0.164122 -0.929254 -1.262908  0.320427 -0.161867  0.239299   \n",
       "5   120.414114 -0.246183  1.531238  1.894362  1.372577  0.377689 -1.199260   \n",
       "\n",
       "    BP  \n",
       "0  105  \n",
       "1  113  \n",
       "2  114  \n",
       "3  115  \n",
       "4  110  \n",
       "5  121  "
      ]
     },
     "execution_count": 27,
     "metadata": {},
     "output_type": "execute_result"
    }
   ],
   "source": [
    "final = predicted.join([xtest.reset_index(drop=True),\n",
    "                       ytest.reset_index(drop=True)])\n",
    "final"
   ]
  },
  {
   "cell_type": "code",
   "execution_count": 28,
   "id": "55301c09",
   "metadata": {
    "scrolled": false
   },
   "outputs": [
    {
     "data": {
      "text/plain": [
       "<seaborn.axisgrid.FacetGrid at 0x1f583c7b760>"
      ]
     },
     "execution_count": 28,
     "metadata": {},
     "output_type": "execute_result"
    },
    {
     "data": {
      "image/png": "[encoded data removed]",
      "text/plain": [
       "<Figure size 360x360 with 1 Axes>"
      ]
     },
     "metadata": {
      "needs_background": "light"
     },
     "output_type": "display_data"
    }
   ],
   "source": [
    "sns.relplot(data=final,x='BP',y='predictedBP',kind='scatter')"
   ]
  },
  {
   "cell_type": "markdown",
   "id": "1272b504",
   "metadata": {},
   "source": [
    "## 4. Multiple Regression Model with 2~5 features"
   ]
  },
  {
   "cell_type": "code",
   "execution_count": 29,
   "id": "538e2488",
   "metadata": {
    "scrolled": true
   },
   "outputs": [
    {
     "data": {
      "text/plain": [
       "Stress    0.163901\n",
       "Dur       0.292834\n",
       "Age       0.659093\n",
       "Pulse     0.721413\n",
       "BSA       0.865879\n",
       "Weight    0.950068\n",
       "BP        1.000000\n",
       "Name: BP, dtype: float64"
      ]
     },
     "execution_count": 29,
     "metadata": {},
     "output_type": "execute_result"
    }
   ],
   "source": [
    "bp.corr()['BP'].sort_values()"
   ]
  },
  {
   "cell_type": "code",
   "execution_count": 30,
   "id": "0b797270",
   "metadata": {},
   "outputs": [],
   "source": [
    "xTrain, xTest,yTrain,yTest = train_test_split(bp[['Weight','BSA','Pulse','Age','Dur']],\n",
    "                                              bp['BP'], train_size=0.70, test_size=0.30, random_state=42)"
   ]
  },
  {
   "cell_type": "code",
   "execution_count": 31,
   "id": "319cbd19",
   "metadata": {},
   "outputs": [
    {
     "data": {
      "text/plain": [
       "LinearRegression()"
      ]
     },
     "execution_count": 31,
     "metadata": {},
     "output_type": "execute_result"
    }
   ],
   "source": [
    "model.fit(xTrain, yTrain)"
   ]
  },
  {
   "cell_type": "code",
   "execution_count": 32,
   "id": "d69cacff",
   "metadata": {},
   "outputs": [
    {
     "data": {
      "text/plain": [
       "0.9963842877617444"
      ]
     },
     "execution_count": 32,
     "metadata": {},
     "output_type": "execute_result"
    }
   ],
   "source": [
    "model.score(xTrain,yTrain)"
   ]
  },
  {
   "cell_type": "code",
   "execution_count": 33,
   "id": "0c9822c7",
   "metadata": {
    "scrolled": true
   },
   "outputs": [
    {
     "data": {
      "text/plain": [
       "0.9853247485841777"
      ]
     },
     "execution_count": 33,
     "metadata": {},
     "output_type": "execute_result"
    }
   ],
   "source": [
    "model.score(xTest,yTest)"
   ]
  },
  {
   "cell_type": "markdown",
   "id": "0f203387",
   "metadata": {},
   "source": [
    "In this case the more the better R squared value:\n",
    "- R squared value test data: 0.9853(vs. 0.9889)\n",
    "- R squared value train data: 0.9963 (vs. 0.9965)"
   ]
  },
  {
   "cell_type": "code",
   "execution_count": 34,
   "id": "e250aac7",
   "metadata": {},
   "outputs": [
    {
     "data": {
      "text/plain": [
       "array([104.63109412, 112.45266561, 113.0642548 , 115.75738779,\n",
       "       109.85993523, 120.5765077 ])"
      ]
     },
     "execution_count": 34,
     "metadata": {},
     "output_type": "execute_result"
    }
   ],
   "source": [
    "y_Predicted=model.predict(xTest)\n",
    "y_Predicted"
   ]
  },
  {
   "cell_type": "code",
   "execution_count": 35,
   "id": "d59a14f0",
   "metadata": {},
   "outputs": [
    {
     "data": {
      "text/html": [
       "<div>\n",
       "<style scoped>\n",
       "    .dataframe tbody tr th:only-of-type {\n",
       "        vertical-align: middle;\n",
       "    }\n",
       "\n",
       "    .dataframe tbody tr th {\n",
       "        vertical-align: top;\n",
       "    }\n",
       "\n",
       "    .dataframe thead th {\n",
       "        text-align: right;\n",
       "    }\n",
       "</style>\n",
       "<table border=\"1\" class=\"dataframe\">\n",
       "  <thead>\n",
       "    <tr style=\"text-align: right;\">\n",
       "      <th></th>\n",
       "      <th>BP_Predicted</th>\n",
       "    </tr>\n",
       "  </thead>\n",
       "  <tbody>\n",
       "    <tr>\n",
       "      <th>0</th>\n",
       "      <td>104.631094</td>\n",
       "    </tr>\n",
       "    <tr>\n",
       "      <th>1</th>\n",
       "      <td>112.452666</td>\n",
       "    </tr>\n",
       "    <tr>\n",
       "      <th>2</th>\n",
       "      <td>113.064255</td>\n",
       "    </tr>\n",
       "    <tr>\n",
       "      <th>3</th>\n",
       "      <td>115.757388</td>\n",
       "    </tr>\n",
       "    <tr>\n",
       "      <th>4</th>\n",
       "      <td>109.859935</td>\n",
       "    </tr>\n",
       "    <tr>\n",
       "      <th>5</th>\n",
       "      <td>120.576508</td>\n",
       "    </tr>\n",
       "  </tbody>\n",
       "</table>\n",
       "</div>"
      ],
      "text/plain": [
       "   BP_Predicted\n",
       "0    104.631094\n",
       "1    112.452666\n",
       "2    113.064255\n",
       "3    115.757388\n",
       "4    109.859935\n",
       "5    120.576508"
      ]
     },
     "execution_count": 35,
     "metadata": {},
     "output_type": "execute_result"
    }
   ],
   "source": [
    "predicted = pd.DataFrame(y_Predicted,columns=['BP_Predicted'])\n",
    "predicted"
   ]
  },
  {
   "cell_type": "code",
   "execution_count": 36,
   "id": "68b3400a",
   "metadata": {},
   "outputs": [
    {
     "data": {
      "text/html": [
       "<div>\n",
       "<style scoped>\n",
       "    .dataframe tbody tr th:only-of-type {\n",
       "        vertical-align: middle;\n",
       "    }\n",
       "\n",
       "    .dataframe tbody tr th {\n",
       "        vertical-align: top;\n",
       "    }\n",
       "\n",
       "    .dataframe thead th {\n",
       "        text-align: right;\n",
       "    }\n",
       "</style>\n",
       "<table border=\"1\" class=\"dataframe\">\n",
       "  <thead>\n",
       "    <tr style=\"text-align: right;\">\n",
       "      <th></th>\n",
       "      <th>BP_Predicted</th>\n",
       "      <th>Age</th>\n",
       "      <th>Weight</th>\n",
       "      <th>BSA</th>\n",
       "      <th>Dur</th>\n",
       "      <th>Pulse</th>\n",
       "      <th>Stress</th>\n",
       "      <th>BP</th>\n",
       "    </tr>\n",
       "  </thead>\n",
       "  <tbody>\n",
       "    <tr>\n",
       "      <th>0</th>\n",
       "      <td>104.631094</td>\n",
       "      <td>-0.656488</td>\n",
       "      <td>-1.837008</td>\n",
       "      <td>-1.864293</td>\n",
       "      <td>-0.636072</td>\n",
       "      <td>-1.780535</td>\n",
       "      <td>-0.562974</td>\n",
       "      <td>105</td>\n",
       "    </tr>\n",
       "    <tr>\n",
       "      <th>1</th>\n",
       "      <td>112.452666</td>\n",
       "      <td>-1.066793</td>\n",
       "      <td>0.336825</td>\n",
       "      <td>-0.736696</td>\n",
       "      <td>-1.018672</td>\n",
       "      <td>0.107911</td>\n",
       "      <td>-1.143930</td>\n",
       "      <td>113</td>\n",
       "    </tr>\n",
       "    <tr>\n",
       "      <th>2</th>\n",
       "      <td>113.064255</td>\n",
       "      <td>-1.066793</td>\n",
       "      <td>0.336825</td>\n",
       "      <td>-0.135312</td>\n",
       "      <td>0.463902</td>\n",
       "      <td>-0.161867</td>\n",
       "      <td>1.152230</td>\n",
       "      <td>114</td>\n",
       "    </tr>\n",
       "    <tr>\n",
       "      <th>3</th>\n",
       "      <td>115.757388</td>\n",
       "      <td>0.164122</td>\n",
       "      <td>0.265160</td>\n",
       "      <td>0.766766</td>\n",
       "      <td>-1.257797</td>\n",
       "      <td>0.107911</td>\n",
       "      <td>-1.088601</td>\n",
       "      <td>115</td>\n",
       "    </tr>\n",
       "    <tr>\n",
       "      <th>4</th>\n",
       "      <td>109.859935</td>\n",
       "      <td>0.164122</td>\n",
       "      <td>-0.929254</td>\n",
       "      <td>-1.262908</td>\n",
       "      <td>0.320427</td>\n",
       "      <td>-0.161867</td>\n",
       "      <td>0.239299</td>\n",
       "      <td>110</td>\n",
       "    </tr>\n",
       "    <tr>\n",
       "      <th>5</th>\n",
       "      <td>120.576508</td>\n",
       "      <td>-0.246183</td>\n",
       "      <td>1.531238</td>\n",
       "      <td>1.894362</td>\n",
       "      <td>1.372577</td>\n",
       "      <td>0.377689</td>\n",
       "      <td>-1.199260</td>\n",
       "      <td>121</td>\n",
       "    </tr>\n",
       "  </tbody>\n",
       "</table>\n",
       "</div>"
      ],
      "text/plain": [
       "   BP_Predicted       Age    Weight       BSA       Dur     Pulse    Stress  \\\n",
       "0    104.631094 -0.656488 -1.837008 -1.864293 -0.636072 -1.780535 -0.562974   \n",
       "1    112.452666 -1.066793  0.336825 -0.736696 -1.018672  0.107911 -1.143930   \n",
       "2    113.064255 -1.066793  0.336825 -0.135312  0.463902 -0.161867  1.152230   \n",
       "3    115.757388  0.164122  0.265160  0.766766 -1.257797  0.107911 -1.088601   \n",
       "4    109.859935  0.164122 -0.929254 -1.262908  0.320427 -0.161867  0.239299   \n",
       "5    120.576508 -0.246183  1.531238  1.894362  1.372577  0.377689 -1.199260   \n",
       "\n",
       "    BP  \n",
       "0  105  \n",
       "1  113  \n",
       "2  114  \n",
       "3  115  \n",
       "4  110  \n",
       "5  121  "
      ]
     },
     "execution_count": 36,
     "metadata": {},
     "output_type": "execute_result"
    }
   ],
   "source": [
    "final = predicted.join([xtest.reset_index(drop=True),\n",
    "                       ytest.reset_index(drop=True)])\n",
    "final"
   ]
  },
  {
   "cell_type": "markdown",
   "id": "da7a910c",
   "metadata": {},
   "source": [
    "# Question 2 _ Bike Data"
   ]
  },
  {
   "cell_type": "code",
   "execution_count": 37,
   "id": "8b822623",
   "metadata": {},
   "outputs": [],
   "source": [
    "bike = pd.read_csv('bikeshare.csv')"
   ]
  },
  {
   "cell_type": "code",
   "execution_count": 38,
   "id": "afcace1f",
   "metadata": {},
   "outputs": [
    {
     "name": "stdout",
     "output_type": "stream",
     "text": [
      "<class 'pandas.core.frame.DataFrame'>\n",
      "RangeIndex: 17379 entries, 0 to 17378\n",
      "Data columns (total 17 columns):\n",
      " #   Column      Non-Null Count  Dtype  \n",
      "---  ------      --------------  -----  \n",
      " 0   instant     17379 non-null  int64  \n",
      " 1   dteday      17379 non-null  object \n",
      " 2   season      17379 non-null  int64  \n",
      " 3   yr          17379 non-null  int64  \n",
      " 4   mnth        17379 non-null  int64  \n",
      " 5   hr          17379 non-null  int64  \n",
      " 6   holiday     17379 non-null  int64  \n",
      " 7   weekday     17379 non-null  int64  \n",
      " 8   workingday  17379 non-null  int64  \n",
      " 9   weathersit  17379 non-null  int64  \n",
      " 10  temp        17379 non-null  float64\n",
      " 11  atemp       17379 non-null  float64\n",
      " 12  hum         17379 non-null  float64\n",
      " 13  windspeed   17379 non-null  float64\n",
      " 14  casual      17379 non-null  int64  \n",
      " 15  registered  17379 non-null  int64  \n",
      " 16  cnt         17379 non-null  int64  \n",
      "dtypes: float64(4), int64(12), object(1)\n",
      "memory usage: 2.3+ MB\n"
     ]
    }
   ],
   "source": [
    "bike.info()"
   ]
  },
  {
   "cell_type": "markdown",
   "id": "5391079b",
   "metadata": {},
   "source": [
    "## 1-Missing Data Check"
   ]
  },
  {
   "cell_type": "code",
   "execution_count": 39,
   "id": "fb3823b6",
   "metadata": {},
   "outputs": [
    {
     "data": {
      "text/plain": [
       "(17379, 17)"
      ]
     },
     "execution_count": 39,
     "metadata": {},
     "output_type": "execute_result"
    }
   ],
   "source": [
    "bike.shape"
   ]
  },
  {
   "cell_type": "code",
   "execution_count": 40,
   "id": "2f86479b",
   "metadata": {},
   "outputs": [
    {
     "data": {
      "text/html": [
       "<div>\n",
       "<style scoped>\n",
       "    .dataframe tbody tr th:only-of-type {\n",
       "        vertical-align: middle;\n",
       "    }\n",
       "\n",
       "    .dataframe tbody tr th {\n",
       "        vertical-align: top;\n",
       "    }\n",
       "\n",
       "    .dataframe thead th {\n",
       "        text-align: right;\n",
       "    }\n",
       "</style>\n",
       "<table border=\"1\" class=\"dataframe\">\n",
       "  <thead>\n",
       "    <tr style=\"text-align: right;\">\n",
       "      <th></th>\n",
       "      <th>instant</th>\n",
       "      <th>dteday</th>\n",
       "      <th>season</th>\n",
       "      <th>yr</th>\n",
       "      <th>mnth</th>\n",
       "      <th>hr</th>\n",
       "      <th>holiday</th>\n",
       "      <th>weekday</th>\n",
       "      <th>workingday</th>\n",
       "      <th>weathersit</th>\n",
       "      <th>temp</th>\n",
       "      <th>atemp</th>\n",
       "      <th>hum</th>\n",
       "      <th>windspeed</th>\n",
       "      <th>casual</th>\n",
       "      <th>registered</th>\n",
       "      <th>cnt</th>\n",
       "    </tr>\n",
       "  </thead>\n",
       "  <tbody>\n",
       "    <tr>\n",
       "      <th>0</th>\n",
       "      <td>1</td>\n",
       "      <td>2011-01-01</td>\n",
       "      <td>1</td>\n",
       "      <td>0</td>\n",
       "      <td>1</td>\n",
       "      <td>0</td>\n",
       "      <td>0</td>\n",
       "      <td>6</td>\n",
       "      <td>0</td>\n",
       "      <td>1</td>\n",
       "      <td>0.24</td>\n",
       "      <td>0.2879</td>\n",
       "      <td>0.81</td>\n",
       "      <td>0.0000</td>\n",
       "      <td>3</td>\n",
       "      <td>13</td>\n",
       "      <td>16</td>\n",
       "    </tr>\n",
       "    <tr>\n",
       "      <th>1</th>\n",
       "      <td>2</td>\n",
       "      <td>2011-01-01</td>\n",
       "      <td>1</td>\n",
       "      <td>0</td>\n",
       "      <td>1</td>\n",
       "      <td>1</td>\n",
       "      <td>0</td>\n",
       "      <td>6</td>\n",
       "      <td>0</td>\n",
       "      <td>1</td>\n",
       "      <td>0.22</td>\n",
       "      <td>0.2727</td>\n",
       "      <td>0.80</td>\n",
       "      <td>0.0000</td>\n",
       "      <td>8</td>\n",
       "      <td>32</td>\n",
       "      <td>40</td>\n",
       "    </tr>\n",
       "    <tr>\n",
       "      <th>2</th>\n",
       "      <td>3</td>\n",
       "      <td>2011-01-01</td>\n",
       "      <td>1</td>\n",
       "      <td>0</td>\n",
       "      <td>1</td>\n",
       "      <td>2</td>\n",
       "      <td>0</td>\n",
       "      <td>6</td>\n",
       "      <td>0</td>\n",
       "      <td>1</td>\n",
       "      <td>0.22</td>\n",
       "      <td>0.2727</td>\n",
       "      <td>0.80</td>\n",
       "      <td>0.0000</td>\n",
       "      <td>5</td>\n",
       "      <td>27</td>\n",
       "      <td>32</td>\n",
       "    </tr>\n",
       "    <tr>\n",
       "      <th>3</th>\n",
       "      <td>4</td>\n",
       "      <td>2011-01-01</td>\n",
       "      <td>1</td>\n",
       "      <td>0</td>\n",
       "      <td>1</td>\n",
       "      <td>3</td>\n",
       "      <td>0</td>\n",
       "      <td>6</td>\n",
       "      <td>0</td>\n",
       "      <td>1</td>\n",
       "      <td>0.24</td>\n",
       "      <td>0.2879</td>\n",
       "      <td>0.75</td>\n",
       "      <td>0.0000</td>\n",
       "      <td>3</td>\n",
       "      <td>10</td>\n",
       "      <td>13</td>\n",
       "    </tr>\n",
       "    <tr>\n",
       "      <th>4</th>\n",
       "      <td>5</td>\n",
       "      <td>2011-01-01</td>\n",
       "      <td>1</td>\n",
       "      <td>0</td>\n",
       "      <td>1</td>\n",
       "      <td>4</td>\n",
       "      <td>0</td>\n",
       "      <td>6</td>\n",
       "      <td>0</td>\n",
       "      <td>1</td>\n",
       "      <td>0.24</td>\n",
       "      <td>0.2879</td>\n",
       "      <td>0.75</td>\n",
       "      <td>0.0000</td>\n",
       "      <td>0</td>\n",
       "      <td>1</td>\n",
       "      <td>1</td>\n",
       "    </tr>\n",
       "    <tr>\n",
       "      <th>...</th>\n",
       "      <td>...</td>\n",
       "      <td>...</td>\n",
       "      <td>...</td>\n",
       "      <td>...</td>\n",
       "      <td>...</td>\n",
       "      <td>...</td>\n",
       "      <td>...</td>\n",
       "      <td>...</td>\n",
       "      <td>...</td>\n",
       "      <td>...</td>\n",
       "      <td>...</td>\n",
       "      <td>...</td>\n",
       "      <td>...</td>\n",
       "      <td>...</td>\n",
       "      <td>...</td>\n",
       "      <td>...</td>\n",
       "      <td>...</td>\n",
       "    </tr>\n",
       "    <tr>\n",
       "      <th>17374</th>\n",
       "      <td>17375</td>\n",
       "      <td>2012-12-31</td>\n",
       "      <td>1</td>\n",
       "      <td>1</td>\n",
       "      <td>12</td>\n",
       "      <td>19</td>\n",
       "      <td>0</td>\n",
       "      <td>1</td>\n",
       "      <td>1</td>\n",
       "      <td>2</td>\n",
       "      <td>0.26</td>\n",
       "      <td>0.2576</td>\n",
       "      <td>0.60</td>\n",
       "      <td>0.1642</td>\n",
       "      <td>11</td>\n",
       "      <td>108</td>\n",
       "      <td>119</td>\n",
       "    </tr>\n",
       "    <tr>\n",
       "      <th>17375</th>\n",
       "      <td>17376</td>\n",
       "      <td>2012-12-31</td>\n",
       "      <td>1</td>\n",
       "      <td>1</td>\n",
       "      <td>12</td>\n",
       "      <td>20</td>\n",
       "      <td>0</td>\n",
       "      <td>1</td>\n",
       "      <td>1</td>\n",
       "      <td>2</td>\n",
       "      <td>0.26</td>\n",
       "      <td>0.2576</td>\n",
       "      <td>0.60</td>\n",
       "      <td>0.1642</td>\n",
       "      <td>8</td>\n",
       "      <td>81</td>\n",
       "      <td>89</td>\n",
       "    </tr>\n",
       "    <tr>\n",
       "      <th>17376</th>\n",
       "      <td>17377</td>\n",
       "      <td>2012-12-31</td>\n",
       "      <td>1</td>\n",
       "      <td>1</td>\n",
       "      <td>12</td>\n",
       "      <td>21</td>\n",
       "      <td>0</td>\n",
       "      <td>1</td>\n",
       "      <td>1</td>\n",
       "      <td>1</td>\n",
       "      <td>0.26</td>\n",
       "      <td>0.2576</td>\n",
       "      <td>0.60</td>\n",
       "      <td>0.1642</td>\n",
       "      <td>7</td>\n",
       "      <td>83</td>\n",
       "      <td>90</td>\n",
       "    </tr>\n",
       "    <tr>\n",
       "      <th>17377</th>\n",
       "      <td>17378</td>\n",
       "      <td>2012-12-31</td>\n",
       "      <td>1</td>\n",
       "      <td>1</td>\n",
       "      <td>12</td>\n",
       "      <td>22</td>\n",
       "      <td>0</td>\n",
       "      <td>1</td>\n",
       "      <td>1</td>\n",
       "      <td>1</td>\n",
       "      <td>0.26</td>\n",
       "      <td>0.2727</td>\n",
       "      <td>0.56</td>\n",
       "      <td>0.1343</td>\n",
       "      <td>13</td>\n",
       "      <td>48</td>\n",
       "      <td>61</td>\n",
       "    </tr>\n",
       "    <tr>\n",
       "      <th>17378</th>\n",
       "      <td>17379</td>\n",
       "      <td>2012-12-31</td>\n",
       "      <td>1</td>\n",
       "      <td>1</td>\n",
       "      <td>12</td>\n",
       "      <td>23</td>\n",
       "      <td>0</td>\n",
       "      <td>1</td>\n",
       "      <td>1</td>\n",
       "      <td>1</td>\n",
       "      <td>0.26</td>\n",
       "      <td>0.2727</td>\n",
       "      <td>0.65</td>\n",
       "      <td>0.1343</td>\n",
       "      <td>12</td>\n",
       "      <td>37</td>\n",
       "      <td>49</td>\n",
       "    </tr>\n",
       "  </tbody>\n",
       "</table>\n",
       "<p>17379 rows × 17 columns</p>\n",
       "</div>"
      ],
      "text/plain": [
       "       instant      dteday  season  yr  mnth  hr  holiday  weekday  \\\n",
       "0            1  2011-01-01       1   0     1   0        0        6   \n",
       "1            2  2011-01-01       1   0     1   1        0        6   \n",
       "2            3  2011-01-01       1   0     1   2        0        6   \n",
       "3            4  2011-01-01       1   0     1   3        0        6   \n",
       "4            5  2011-01-01       1   0     1   4        0        6   \n",
       "...        ...         ...     ...  ..   ...  ..      ...      ...   \n",
       "17374    17375  2012-12-31       1   1    12  19        0        1   \n",
       "17375    17376  2012-12-31       1   1    12  20        0        1   \n",
       "17376    17377  2012-12-31       1   1    12  21        0        1   \n",
       "17377    17378  2012-12-31       1   1    12  22        0        1   \n",
       "17378    17379  2012-12-31       1   1    12  23        0        1   \n",
       "\n",
       "       workingday  weathersit  temp   atemp   hum  windspeed  casual  \\\n",
       "0               0           1  0.24  0.2879  0.81     0.0000       3   \n",
       "1               0           1  0.22  0.2727  0.80     0.0000       8   \n",
       "2               0           1  0.22  0.2727  0.80     0.0000       5   \n",
       "3               0           1  0.24  0.2879  0.75     0.0000       3   \n",
       "4               0           1  0.24  0.2879  0.75     0.0000       0   \n",
       "...           ...         ...   ...     ...   ...        ...     ...   \n",
       "17374           1           2  0.26  0.2576  0.60     0.1642      11   \n",
       "17375           1           2  0.26  0.2576  0.60     0.1642       8   \n",
       "17376           1           1  0.26  0.2576  0.60     0.1642       7   \n",
       "17377           1           1  0.26  0.2727  0.56     0.1343      13   \n",
       "17378           1           1  0.26  0.2727  0.65     0.1343      12   \n",
       "\n",
       "       registered  cnt  \n",
       "0              13   16  \n",
       "1              32   40  \n",
       "2              27   32  \n",
       "3              10   13  \n",
       "4               1    1  \n",
       "...           ...  ...  \n",
       "17374         108  119  \n",
       "17375          81   89  \n",
       "17376          83   90  \n",
       "17377          48   61  \n",
       "17378          37   49  \n",
       "\n",
       "[17379 rows x 17 columns]"
      ]
     },
     "execution_count": 40,
     "metadata": {},
     "output_type": "execute_result"
    }
   ],
   "source": [
    "bike.dropna()"
   ]
  },
  {
   "cell_type": "code",
   "execution_count": 41,
   "id": "4922f1f5",
   "metadata": {},
   "outputs": [
    {
     "data": {
      "text/plain": [
       "(17379, 17)"
      ]
     },
     "execution_count": 41,
     "metadata": {},
     "output_type": "execute_result"
    }
   ],
   "source": [
    "bike.shape"
   ]
  },
  {
   "cell_type": "markdown",
   "id": "be3787dd",
   "metadata": {},
   "source": [
    "After dropping there are nothing drop which show there are no null."
   ]
  },
  {
   "cell_type": "markdown",
   "id": "3c34957d",
   "metadata": {},
   "source": [
    "## 2 - Categorical and Numerical Data"
   ]
  },
  {
   "cell_type": "code",
   "execution_count": 42,
   "id": "e3858f90",
   "metadata": {
    "scrolled": false
   },
   "outputs": [
    {
     "data": {
      "text/plain": [
       "instant         int64\n",
       "dteday         object\n",
       "season          int64\n",
       "yr              int64\n",
       "mnth            int64\n",
       "hr              int64\n",
       "holiday         int64\n",
       "weekday         int64\n",
       "workingday      int64\n",
       "weathersit      int64\n",
       "temp          float64\n",
       "atemp         float64\n",
       "hum           float64\n",
       "windspeed     float64\n",
       "casual          int64\n",
       "registered      int64\n",
       "cnt             int64\n",
       "dtype: object"
      ]
     },
     "execution_count": 42,
     "metadata": {},
     "output_type": "execute_result"
    }
   ],
   "source": [
    "bike.dtypes"
   ]
  },
  {
   "cell_type": "code",
   "execution_count": 43,
   "id": "f5bbc7cf",
   "metadata": {},
   "outputs": [
    {
     "data": {
      "text/plain": [
       "instant       17379\n",
       "dteday          731\n",
       "season            4\n",
       "yr                2\n",
       "mnth             12\n",
       "hr               24\n",
       "holiday           2\n",
       "weekday           7\n",
       "workingday        2\n",
       "weathersit        4\n",
       "temp             50\n",
       "atemp            65\n",
       "hum              89\n",
       "windspeed        30\n",
       "casual          322\n",
       "registered      776\n",
       "cnt             869\n",
       "dtype: int64"
      ]
     },
     "execution_count": 43,
     "metadata": {},
     "output_type": "execute_result"
    }
   ],
   "source": [
    "bike.nunique()"
   ]
  },
  {
   "cell_type": "markdown",
   "id": "cf373f8b",
   "metadata": {},
   "source": [
    "### Categorical:\n",
    "#### Nominal\n",
    "    + weathersit\n",
    "\n",
    "#### Ordinal\n",
    "   + season\n",
    "   + mnth\n",
    "   + instant\n",
    "   + hr\n",
    "   + weekday\n",
    "   + dteday\n",
    "\n",
    "#### Dichotomous\n",
    "    + yr\n",
    "    + holiday\n",
    "    + workingday"
   ]
  },
  {
   "cell_type": "markdown",
   "id": "99cdaf63",
   "metadata": {},
   "source": [
    "### Numerical\n",
    "- instant         int64\n",
    "- season          int64\n",
    "- yr              int64\n",
    "- mnth            int64\n",
    "- hr              int64\n",
    "- holiday         int64\n",
    "- weekday         int64\n",
    "- workingday      int64\n",
    "- weathersit      int64\n",
    "- temp          float64\n",
    "- atemp         float64\n",
    "- hum           float64\n",
    "- windspeed     float64\n",
    "- casual          int64\n",
    "- registered      int64\n",
    "- cnt             int64"
   ]
  },
  {
   "cell_type": "markdown",
   "id": "9f9957c6",
   "metadata": {},
   "source": [
    "## 3 - Correlation"
   ]
  },
  {
   "cell_type": "code",
   "execution_count": 44,
   "id": "9b872b87",
   "metadata": {},
   "outputs": [],
   "source": [
    "bikecorr=bike.corr()['cnt'].sort_values()"
   ]
  },
  {
   "cell_type": "code",
   "execution_count": 45,
   "id": "f107ac68",
   "metadata": {},
   "outputs": [
    {
     "data": {
      "text/plain": [
       "hum          -0.322911\n",
       "weathersit   -0.142426\n",
       "holiday      -0.030927\n",
       "weekday       0.026900\n",
       "workingday    0.030284\n",
       "windspeed     0.093234\n",
       "mnth          0.120638\n",
       "season        0.178056\n",
       "yr            0.250495\n",
       "instant       0.278379\n",
       "hr            0.394071\n",
       "atemp         0.400929\n",
       "temp          0.404772\n",
       "casual        0.694564\n",
       "registered    0.972151\n",
       "Name: cnt, dtype: float64"
      ]
     },
     "execution_count": 45,
     "metadata": {},
     "output_type": "execute_result"
    }
   ],
   "source": [
    "bikecorr.drop('cnt',inplace=True)\n",
    "bikecorr"
   ]
  },
  {
   "cell_type": "code",
   "execution_count": 46,
   "id": "1cce430e",
   "metadata": {},
   "outputs": [
    {
     "name": "stdout",
     "output_type": "stream",
     "text": [
      "registered\n"
     ]
    },
    {
     "data": {
      "text/plain": [
       "0.9721507308642957"
      ]
     },
     "execution_count": 46,
     "metadata": {},
     "output_type": "execute_result"
    }
   ],
   "source": [
    "print(bikecorr.idxmax())\n",
    "bikecorr.max()"
   ]
  },
  {
   "cell_type": "markdown",
   "id": "7a2e66f7",
   "metadata": {},
   "source": [
    "## 4 - Simple Linear Regression"
   ]
  },
  {
   "cell_type": "code",
   "execution_count": 47,
   "id": "8742d9cb",
   "metadata": {},
   "outputs": [],
   "source": [
    "bikex_train, bikex_test, bikey_train, bikey_test = train_test_split(bike[['registered']],\n",
    "                                                    bike[['cnt']], train_size=0.70, test_size=0.30, random_state=42)"
   ]
  },
  {
   "cell_type": "code",
   "execution_count": 48,
   "id": "531c54c3",
   "metadata": {},
   "outputs": [
    {
     "data": {
      "text/plain": [
       "LinearRegression()"
      ]
     },
     "execution_count": 48,
     "metadata": {},
     "output_type": "execute_result"
    }
   ],
   "source": [
    "model.fit(bikex_train,bikey_train)"
   ]
  },
  {
   "cell_type": "code",
   "execution_count": 49,
   "id": "b9e44f34",
   "metadata": {},
   "outputs": [
    {
     "data": {
      "text/plain": [
       "0.9429225195852444"
      ]
     },
     "execution_count": 49,
     "metadata": {},
     "output_type": "execute_result"
    }
   ],
   "source": [
    "model.score(bikex_test,bikey_test)"
   ]
  },
  {
   "cell_type": "code",
   "execution_count": 50,
   "id": "ef6eccbc",
   "metadata": {},
   "outputs": [
    {
     "data": {
      "text/plain": [
       "0.945931469221602"
      ]
     },
     "execution_count": 50,
     "metadata": {},
     "output_type": "execute_result"
    }
   ],
   "source": [
    "model.score(bikex_train,bikey_train)"
   ]
  },
  {
   "cell_type": "markdown",
   "id": "6ce7e217",
   "metadata": {},
   "source": [
    "- R squared value test data: 0.9429\n",
    "- R squared value train data: 0.9459"
   ]
  },
  {
   "cell_type": "code",
   "execution_count": 51,
   "id": "7826ce94",
   "metadata": {},
   "outputs": [
    {
     "data": {
      "text/plain": [
       "array([[289.94243777],\n",
       "       [107.1037244 ],\n",
       "       [ 13.93750103],\n",
       "       ...,\n",
       "       [393.58986128],\n",
       "       [328.37350492],\n",
       "       [ 94.29336869]])"
      ]
     },
     "execution_count": 51,
     "metadata": {},
     "output_type": "execute_result"
    }
   ],
   "source": [
    "bikey_predicted=model.predict(bikex_test)\n",
    "bikey_predicted"
   ]
  },
  {
   "cell_type": "code",
   "execution_count": 52,
   "id": "cb8164eb",
   "metadata": {},
   "outputs": [],
   "source": [
    "predicted = pd.DataFrame(y_predicted, columns=['predictedCNT'])"
   ]
  },
  {
   "cell_type": "code",
   "execution_count": 53,
   "id": "ce29acb7",
   "metadata": {},
   "outputs": [
    {
     "data": {
      "text/html": [
       "<div>\n",
       "<style scoped>\n",
       "    .dataframe tbody tr th:only-of-type {\n",
       "        vertical-align: middle;\n",
       "    }\n",
       "\n",
       "    .dataframe tbody tr th {\n",
       "        vertical-align: top;\n",
       "    }\n",
       "\n",
       "    .dataframe thead th {\n",
       "        text-align: right;\n",
       "    }\n",
       "</style>\n",
       "<table border=\"1\" class=\"dataframe\">\n",
       "  <thead>\n",
       "    <tr style=\"text-align: right;\">\n",
       "      <th></th>\n",
       "      <th>predictedCNT</th>\n",
       "      <th>registered</th>\n",
       "      <th>cnt</th>\n",
       "    </tr>\n",
       "  </thead>\n",
       "  <tbody>\n",
       "    <tr>\n",
       "      <th>0</th>\n",
       "      <td>104.577608</td>\n",
       "      <td>240</td>\n",
       "      <td>425</td>\n",
       "    </tr>\n",
       "    <tr>\n",
       "      <th>1</th>\n",
       "      <td>116.102059</td>\n",
       "      <td>83</td>\n",
       "      <td>88</td>\n",
       "    </tr>\n",
       "    <tr>\n",
       "      <th>2</th>\n",
       "      <td>116.102059</td>\n",
       "      <td>3</td>\n",
       "      <td>4</td>\n",
       "    </tr>\n",
       "    <tr>\n",
       "      <th>3</th>\n",
       "      <td>115.722132</td>\n",
       "      <td>457</td>\n",
       "      <td>526</td>\n",
       "    </tr>\n",
       "    <tr>\n",
       "      <th>4</th>\n",
       "      <td>109.390016</td>\n",
       "      <td>8</td>\n",
       "      <td>13</td>\n",
       "    </tr>\n",
       "    <tr>\n",
       "      <th>5</th>\n",
       "      <td>122.434175</td>\n",
       "      <td>20</td>\n",
       "      <td>32</td>\n",
       "    </tr>\n",
       "  </tbody>\n",
       "</table>\n",
       "</div>"
      ],
      "text/plain": [
       "   predictedCNT  registered  cnt\n",
       "0    104.577608         240  425\n",
       "1    116.102059          83   88\n",
       "2    116.102059           3    4\n",
       "3    115.722132         457  526\n",
       "4    109.390016           8   13\n",
       "5    122.434175          20   32"
      ]
     },
     "execution_count": 53,
     "metadata": {},
     "output_type": "execute_result"
    }
   ],
   "source": [
    "finalBike = predicted.join([bikex_test.reset_index(drop=True), \n",
    "                        bikey_test.reset_index(drop=True)])\n",
    "finalBike"
   ]
  },
  {
   "cell_type": "markdown",
   "id": "1d91b1a7",
   "metadata": {},
   "source": [
    "## 5. Not Relevant Features"
   ]
  },
  {
   "cell_type": "code",
   "execution_count": 54,
   "id": "c27d0395",
   "metadata": {},
   "outputs": [
    {
     "data": {
      "text/plain": [
       "hum          -0.322911\n",
       "weathersit   -0.142426\n",
       "holiday      -0.030927\n",
       "weekday       0.026900\n",
       "workingday    0.030284\n",
       "windspeed     0.093234\n",
       "mnth          0.120638\n",
       "season        0.178056\n",
       "yr            0.250495\n",
       "instant       0.278379\n",
       "hr            0.394071\n",
       "atemp         0.400929\n",
       "temp          0.404772\n",
       "casual        0.694564\n",
       "registered    0.972151\n",
       "cnt           1.000000\n",
       "Name: cnt, dtype: float64"
      ]
     },
     "execution_count": 54,
     "metadata": {},
     "output_type": "execute_result"
    }
   ],
   "source": [
    "bike.corr()['cnt'].sort_values()"
   ]
  },
  {
   "cell_type": "code",
   "execution_count": 55,
   "id": "20b9fecc",
   "metadata": {
    "scrolled": false
   },
   "outputs": [
    {
     "data": {
      "text/html": [
       "<div>\n",
       "<style scoped>\n",
       "    .dataframe tbody tr th:only-of-type {\n",
       "        vertical-align: middle;\n",
       "    }\n",
       "\n",
       "    .dataframe tbody tr th {\n",
       "        vertical-align: top;\n",
       "    }\n",
       "\n",
       "    .dataframe thead th {\n",
       "        text-align: right;\n",
       "    }\n",
       "</style>\n",
       "<table border=\"1\" class=\"dataframe\">\n",
       "  <thead>\n",
       "    <tr style=\"text-align: right;\">\n",
       "      <th></th>\n",
       "      <th>season</th>\n",
       "      <th>yr</th>\n",
       "      <th>mnth</th>\n",
       "      <th>holiday</th>\n",
       "      <th>weathersit</th>\n",
       "      <th>temp</th>\n",
       "      <th>windspeed</th>\n",
       "      <th>casual</th>\n",
       "      <th>registered</th>\n",
       "      <th>cnt</th>\n",
       "    </tr>\n",
       "  </thead>\n",
       "  <tbody>\n",
       "    <tr>\n",
       "      <th>0</th>\n",
       "      <td>1</td>\n",
       "      <td>0</td>\n",
       "      <td>1</td>\n",
       "      <td>0</td>\n",
       "      <td>1</td>\n",
       "      <td>0.24</td>\n",
       "      <td>0.0000</td>\n",
       "      <td>3</td>\n",
       "      <td>13</td>\n",
       "      <td>16</td>\n",
       "    </tr>\n",
       "    <tr>\n",
       "      <th>1</th>\n",
       "      <td>1</td>\n",
       "      <td>0</td>\n",
       "      <td>1</td>\n",
       "      <td>0</td>\n",
       "      <td>1</td>\n",
       "      <td>0.22</td>\n",
       "      <td>0.0000</td>\n",
       "      <td>8</td>\n",
       "      <td>32</td>\n",
       "      <td>40</td>\n",
       "    </tr>\n",
       "    <tr>\n",
       "      <th>2</th>\n",
       "      <td>1</td>\n",
       "      <td>0</td>\n",
       "      <td>1</td>\n",
       "      <td>0</td>\n",
       "      <td>1</td>\n",
       "      <td>0.22</td>\n",
       "      <td>0.0000</td>\n",
       "      <td>5</td>\n",
       "      <td>27</td>\n",
       "      <td>32</td>\n",
       "    </tr>\n",
       "    <tr>\n",
       "      <th>3</th>\n",
       "      <td>1</td>\n",
       "      <td>0</td>\n",
       "      <td>1</td>\n",
       "      <td>0</td>\n",
       "      <td>1</td>\n",
       "      <td>0.24</td>\n",
       "      <td>0.0000</td>\n",
       "      <td>3</td>\n",
       "      <td>10</td>\n",
       "      <td>13</td>\n",
       "    </tr>\n",
       "    <tr>\n",
       "      <th>4</th>\n",
       "      <td>1</td>\n",
       "      <td>0</td>\n",
       "      <td>1</td>\n",
       "      <td>0</td>\n",
       "      <td>1</td>\n",
       "      <td>0.24</td>\n",
       "      <td>0.0000</td>\n",
       "      <td>0</td>\n",
       "      <td>1</td>\n",
       "      <td>1</td>\n",
       "    </tr>\n",
       "    <tr>\n",
       "      <th>...</th>\n",
       "      <td>...</td>\n",
       "      <td>...</td>\n",
       "      <td>...</td>\n",
       "      <td>...</td>\n",
       "      <td>...</td>\n",
       "      <td>...</td>\n",
       "      <td>...</td>\n",
       "      <td>...</td>\n",
       "      <td>...</td>\n",
       "      <td>...</td>\n",
       "    </tr>\n",
       "    <tr>\n",
       "      <th>17374</th>\n",
       "      <td>1</td>\n",
       "      <td>1</td>\n",
       "      <td>12</td>\n",
       "      <td>0</td>\n",
       "      <td>2</td>\n",
       "      <td>0.26</td>\n",
       "      <td>0.1642</td>\n",
       "      <td>11</td>\n",
       "      <td>108</td>\n",
       "      <td>119</td>\n",
       "    </tr>\n",
       "    <tr>\n",
       "      <th>17375</th>\n",
       "      <td>1</td>\n",
       "      <td>1</td>\n",
       "      <td>12</td>\n",
       "      <td>0</td>\n",
       "      <td>2</td>\n",
       "      <td>0.26</td>\n",
       "      <td>0.1642</td>\n",
       "      <td>8</td>\n",
       "      <td>81</td>\n",
       "      <td>89</td>\n",
       "    </tr>\n",
       "    <tr>\n",
       "      <th>17376</th>\n",
       "      <td>1</td>\n",
       "      <td>1</td>\n",
       "      <td>12</td>\n",
       "      <td>0</td>\n",
       "      <td>1</td>\n",
       "      <td>0.26</td>\n",
       "      <td>0.1642</td>\n",
       "      <td>7</td>\n",
       "      <td>83</td>\n",
       "      <td>90</td>\n",
       "    </tr>\n",
       "    <tr>\n",
       "      <th>17377</th>\n",
       "      <td>1</td>\n",
       "      <td>1</td>\n",
       "      <td>12</td>\n",
       "      <td>0</td>\n",
       "      <td>1</td>\n",
       "      <td>0.26</td>\n",
       "      <td>0.1343</td>\n",
       "      <td>13</td>\n",
       "      <td>48</td>\n",
       "      <td>61</td>\n",
       "    </tr>\n",
       "    <tr>\n",
       "      <th>17378</th>\n",
       "      <td>1</td>\n",
       "      <td>1</td>\n",
       "      <td>12</td>\n",
       "      <td>0</td>\n",
       "      <td>1</td>\n",
       "      <td>0.26</td>\n",
       "      <td>0.1343</td>\n",
       "      <td>12</td>\n",
       "      <td>37</td>\n",
       "      <td>49</td>\n",
       "    </tr>\n",
       "  </tbody>\n",
       "</table>\n",
       "<p>17379 rows × 10 columns</p>\n",
       "</div>"
      ],
      "text/plain": [
       "       season  yr  mnth  holiday  weathersit  temp  windspeed  casual  \\\n",
       "0           1   0     1        0           1  0.24     0.0000       3   \n",
       "1           1   0     1        0           1  0.22     0.0000       8   \n",
       "2           1   0     1        0           1  0.22     0.0000       5   \n",
       "3           1   0     1        0           1  0.24     0.0000       3   \n",
       "4           1   0     1        0           1  0.24     0.0000       0   \n",
       "...       ...  ..   ...      ...         ...   ...        ...     ...   \n",
       "17374       1   1    12        0           2  0.26     0.1642      11   \n",
       "17375       1   1    12        0           2  0.26     0.1642       8   \n",
       "17376       1   1    12        0           1  0.26     0.1642       7   \n",
       "17377       1   1    12        0           1  0.26     0.1343      13   \n",
       "17378       1   1    12        0           1  0.26     0.1343      12   \n",
       "\n",
       "       registered  cnt  \n",
       "0              13   16  \n",
       "1              32   40  \n",
       "2              27   32  \n",
       "3              10   13  \n",
       "4               1    1  \n",
       "...           ...  ...  \n",
       "17374         108  119  \n",
       "17375          81   89  \n",
       "17376          83   90  \n",
       "17377          48   61  \n",
       "17378          37   49  \n",
       "\n",
       "[17379 rows x 10 columns]"
      ]
     },
     "execution_count": 55,
     "metadata": {},
     "output_type": "execute_result"
    }
   ],
   "source": [
    "# remove data that irrelevant not irrelevant\n",
    "# instant, dteday is record index and the date which did not provided much information\n",
    "# workingday, weekday, hum are insignificant correlation to cnt\n",
    "# atemp is dependent variable on temp\n",
    "col = ['instant','dteday','workingday','weekday','hr','atemp','hum']\n",
    "bikeFinal= bike.drop(col,axis=1)\n",
    "bikeFinal"
   ]
  },
  {
   "cell_type": "markdown",
   "id": "f4c3f627",
   "metadata": {},
   "source": [
    "## 6. Dummy Variable"
   ]
  },
  {
   "cell_type": "code",
   "execution_count": 56,
   "id": "60ed5d66",
   "metadata": {},
   "outputs": [
    {
     "data": {
      "text/plain": [
       "season        category\n",
       "yr            category\n",
       "mnth          category\n",
       "holiday       category\n",
       "weathersit    category\n",
       "temp           float64\n",
       "windspeed      float64\n",
       "casual           int64\n",
       "registered       int64\n",
       "cnt              int64\n",
       "dtype: object"
      ]
     },
     "execution_count": 56,
     "metadata": {},
     "output_type": "execute_result"
    }
   ],
   "source": [
    "categorical_new = ['season', 'yr', 'mnth','holiday','weathersit']\n",
    "\n",
    "for i in categorical_new:\n",
    "    bikeFinal[i] = bikeFinal[i].astype('category')\n",
    "\n",
    "# Checking our new Data Type:\n",
    "\n",
    "bikeFinal.dtypes"
   ]
  },
  {
   "cell_type": "code",
   "execution_count": 57,
   "id": "a3fe0ef3",
   "metadata": {
    "scrolled": false
   },
   "outputs": [
    {
     "data": {
      "text/html": [
       "<div>\n",
       "<style scoped>\n",
       "    .dataframe tbody tr th:only-of-type {\n",
       "        vertical-align: middle;\n",
       "    }\n",
       "\n",
       "    .dataframe tbody tr th {\n",
       "        vertical-align: top;\n",
       "    }\n",
       "\n",
       "    .dataframe thead th {\n",
       "        text-align: right;\n",
       "    }\n",
       "</style>\n",
       "<table border=\"1\" class=\"dataframe\">\n",
       "  <thead>\n",
       "    <tr style=\"text-align: right;\">\n",
       "      <th></th>\n",
       "      <th>temp</th>\n",
       "      <th>windspeed</th>\n",
       "      <th>casual</th>\n",
       "      <th>registered</th>\n",
       "      <th>cnt</th>\n",
       "      <th>season_2</th>\n",
       "      <th>season_3</th>\n",
       "      <th>season_4</th>\n",
       "      <th>yr_1</th>\n",
       "      <th>mnth_2</th>\n",
       "      <th>...</th>\n",
       "      <th>mnth_7</th>\n",
       "      <th>mnth_8</th>\n",
       "      <th>mnth_9</th>\n",
       "      <th>mnth_10</th>\n",
       "      <th>mnth_11</th>\n",
       "      <th>mnth_12</th>\n",
       "      <th>holiday_1</th>\n",
       "      <th>weathersit_2</th>\n",
       "      <th>weathersit_3</th>\n",
       "      <th>weathersit_4</th>\n",
       "    </tr>\n",
       "  </thead>\n",
       "  <tbody>\n",
       "    <tr>\n",
       "      <th>0</th>\n",
       "      <td>0.24</td>\n",
       "      <td>0.0000</td>\n",
       "      <td>3</td>\n",
       "      <td>13</td>\n",
       "      <td>16</td>\n",
       "      <td>0</td>\n",
       "      <td>0</td>\n",
       "      <td>0</td>\n",
       "      <td>0</td>\n",
       "      <td>0</td>\n",
       "      <td>...</td>\n",
       "      <td>0</td>\n",
       "      <td>0</td>\n",
       "      <td>0</td>\n",
       "      <td>0</td>\n",
       "      <td>0</td>\n",
       "      <td>0</td>\n",
       "      <td>0</td>\n",
       "      <td>0</td>\n",
       "      <td>0</td>\n",
       "      <td>0</td>\n",
       "    </tr>\n",
       "    <tr>\n",
       "      <th>1</th>\n",
       "      <td>0.22</td>\n",
       "      <td>0.0000</td>\n",
       "      <td>8</td>\n",
       "      <td>32</td>\n",
       "      <td>40</td>\n",
       "      <td>0</td>\n",
       "      <td>0</td>\n",
       "      <td>0</td>\n",
       "      <td>0</td>\n",
       "      <td>0</td>\n",
       "      <td>...</td>\n",
       "      <td>0</td>\n",
       "      <td>0</td>\n",
       "      <td>0</td>\n",
       "      <td>0</td>\n",
       "      <td>0</td>\n",
       "      <td>0</td>\n",
       "      <td>0</td>\n",
       "      <td>0</td>\n",
       "      <td>0</td>\n",
       "      <td>0</td>\n",
       "    </tr>\n",
       "    <tr>\n",
       "      <th>2</th>\n",
       "      <td>0.22</td>\n",
       "      <td>0.0000</td>\n",
       "      <td>5</td>\n",
       "      <td>27</td>\n",
       "      <td>32</td>\n",
       "      <td>0</td>\n",
       "      <td>0</td>\n",
       "      <td>0</td>\n",
       "      <td>0</td>\n",
       "      <td>0</td>\n",
       "      <td>...</td>\n",
       "      <td>0</td>\n",
       "      <td>0</td>\n",
       "      <td>0</td>\n",
       "      <td>0</td>\n",
       "      <td>0</td>\n",
       "      <td>0</td>\n",
       "      <td>0</td>\n",
       "      <td>0</td>\n",
       "      <td>0</td>\n",
       "      <td>0</td>\n",
       "    </tr>\n",
       "    <tr>\n",
       "      <th>3</th>\n",
       "      <td>0.24</td>\n",
       "      <td>0.0000</td>\n",
       "      <td>3</td>\n",
       "      <td>10</td>\n",
       "      <td>13</td>\n",
       "      <td>0</td>\n",
       "      <td>0</td>\n",
       "      <td>0</td>\n",
       "      <td>0</td>\n",
       "      <td>0</td>\n",
       "      <td>...</td>\n",
       "      <td>0</td>\n",
       "      <td>0</td>\n",
       "      <td>0</td>\n",
       "      <td>0</td>\n",
       "      <td>0</td>\n",
       "      <td>0</td>\n",
       "      <td>0</td>\n",
       "      <td>0</td>\n",
       "      <td>0</td>\n",
       "      <td>0</td>\n",
       "    </tr>\n",
       "    <tr>\n",
       "      <th>4</th>\n",
       "      <td>0.24</td>\n",
       "      <td>0.0000</td>\n",
       "      <td>0</td>\n",
       "      <td>1</td>\n",
       "      <td>1</td>\n",
       "      <td>0</td>\n",
       "      <td>0</td>\n",
       "      <td>0</td>\n",
       "      <td>0</td>\n",
       "      <td>0</td>\n",
       "      <td>...</td>\n",
       "      <td>0</td>\n",
       "      <td>0</td>\n",
       "      <td>0</td>\n",
       "      <td>0</td>\n",
       "      <td>0</td>\n",
       "      <td>0</td>\n",
       "      <td>0</td>\n",
       "      <td>0</td>\n",
       "      <td>0</td>\n",
       "      <td>0</td>\n",
       "    </tr>\n",
       "    <tr>\n",
       "      <th>...</th>\n",
       "      <td>...</td>\n",
       "      <td>...</td>\n",
       "      <td>...</td>\n",
       "      <td>...</td>\n",
       "      <td>...</td>\n",
       "      <td>...</td>\n",
       "      <td>...</td>\n",
       "      <td>...</td>\n",
       "      <td>...</td>\n",
       "      <td>...</td>\n",
       "      <td>...</td>\n",
       "      <td>...</td>\n",
       "      <td>...</td>\n",
       "      <td>...</td>\n",
       "      <td>...</td>\n",
       "      <td>...</td>\n",
       "      <td>...</td>\n",
       "      <td>...</td>\n",
       "      <td>...</td>\n",
       "      <td>...</td>\n",
       "      <td>...</td>\n",
       "    </tr>\n",
       "    <tr>\n",
       "      <th>17374</th>\n",
       "      <td>0.26</td>\n",
       "      <td>0.1642</td>\n",
       "      <td>11</td>\n",
       "      <td>108</td>\n",
       "      <td>119</td>\n",
       "      <td>0</td>\n",
       "      <td>0</td>\n",
       "      <td>0</td>\n",
       "      <td>1</td>\n",
       "      <td>0</td>\n",
       "      <td>...</td>\n",
       "      <td>0</td>\n",
       "      <td>0</td>\n",
       "      <td>0</td>\n",
       "      <td>0</td>\n",
       "      <td>0</td>\n",
       "      <td>1</td>\n",
       "      <td>0</td>\n",
       "      <td>1</td>\n",
       "      <td>0</td>\n",
       "      <td>0</td>\n",
       "    </tr>\n",
       "    <tr>\n",
       "      <th>17375</th>\n",
       "      <td>0.26</td>\n",
       "      <td>0.1642</td>\n",
       "      <td>8</td>\n",
       "      <td>81</td>\n",
       "      <td>89</td>\n",
       "      <td>0</td>\n",
       "      <td>0</td>\n",
       "      <td>0</td>\n",
       "      <td>1</td>\n",
       "      <td>0</td>\n",
       "      <td>...</td>\n",
       "      <td>0</td>\n",
       "      <td>0</td>\n",
       "      <td>0</td>\n",
       "      <td>0</td>\n",
       "      <td>0</td>\n",
       "      <td>1</td>\n",
       "      <td>0</td>\n",
       "      <td>1</td>\n",
       "      <td>0</td>\n",
       "      <td>0</td>\n",
       "    </tr>\n",
       "    <tr>\n",
       "      <th>17376</th>\n",
       "      <td>0.26</td>\n",
       "      <td>0.1642</td>\n",
       "      <td>7</td>\n",
       "      <td>83</td>\n",
       "      <td>90</td>\n",
       "      <td>0</td>\n",
       "      <td>0</td>\n",
       "      <td>0</td>\n",
       "      <td>1</td>\n",
       "      <td>0</td>\n",
       "      <td>...</td>\n",
       "      <td>0</td>\n",
       "      <td>0</td>\n",
       "      <td>0</td>\n",
       "      <td>0</td>\n",
       "      <td>0</td>\n",
       "      <td>1</td>\n",
       "      <td>0</td>\n",
       "      <td>0</td>\n",
       "      <td>0</td>\n",
       "      <td>0</td>\n",
       "    </tr>\n",
       "    <tr>\n",
       "      <th>17377</th>\n",
       "      <td>0.26</td>\n",
       "      <td>0.1343</td>\n",
       "      <td>13</td>\n",
       "      <td>48</td>\n",
       "      <td>61</td>\n",
       "      <td>0</td>\n",
       "      <td>0</td>\n",
       "      <td>0</td>\n",
       "      <td>1</td>\n",
       "      <td>0</td>\n",
       "      <td>...</td>\n",
       "      <td>0</td>\n",
       "      <td>0</td>\n",
       "      <td>0</td>\n",
       "      <td>0</td>\n",
       "      <td>0</td>\n",
       "      <td>1</td>\n",
       "      <td>0</td>\n",
       "      <td>0</td>\n",
       "      <td>0</td>\n",
       "      <td>0</td>\n",
       "    </tr>\n",
       "    <tr>\n",
       "      <th>17378</th>\n",
       "      <td>0.26</td>\n",
       "      <td>0.1343</td>\n",
       "      <td>12</td>\n",
       "      <td>37</td>\n",
       "      <td>49</td>\n",
       "      <td>0</td>\n",
       "      <td>0</td>\n",
       "      <td>0</td>\n",
       "      <td>1</td>\n",
       "      <td>0</td>\n",
       "      <td>...</td>\n",
       "      <td>0</td>\n",
       "      <td>0</td>\n",
       "      <td>0</td>\n",
       "      <td>0</td>\n",
       "      <td>0</td>\n",
       "      <td>1</td>\n",
       "      <td>0</td>\n",
       "      <td>0</td>\n",
       "      <td>0</td>\n",
       "      <td>0</td>\n",
       "    </tr>\n",
       "  </tbody>\n",
       "</table>\n",
       "<p>17379 rows × 24 columns</p>\n",
       "</div>"
      ],
      "text/plain": [
       "       temp  windspeed  casual  registered  cnt  season_2  season_3  season_4  \\\n",
       "0      0.24     0.0000       3          13   16         0         0         0   \n",
       "1      0.22     0.0000       8          32   40         0         0         0   \n",
       "2      0.22     0.0000       5          27   32         0         0         0   \n",
       "3      0.24     0.0000       3          10   13         0         0         0   \n",
       "4      0.24     0.0000       0           1    1         0         0         0   \n",
       "...     ...        ...     ...         ...  ...       ...       ...       ...   \n",
       "17374  0.26     0.1642      11         108  119         0         0         0   \n",
       "17375  0.26     0.1642       8          81   89         0         0         0   \n",
       "17376  0.26     0.1642       7          83   90         0         0         0   \n",
       "17377  0.26     0.1343      13          48   61         0         0         0   \n",
       "17378  0.26     0.1343      12          37   49         0         0         0   \n",
       "\n",
       "       yr_1  mnth_2  ...  mnth_7  mnth_8  mnth_9  mnth_10  mnth_11  mnth_12  \\\n",
       "0         0       0  ...       0       0       0        0        0        0   \n",
       "1         0       0  ...       0       0       0        0        0        0   \n",
       "2         0       0  ...       0       0       0        0        0        0   \n",
       "3         0       0  ...       0       0       0        0        0        0   \n",
       "4         0       0  ...       0       0       0        0        0        0   \n",
       "...     ...     ...  ...     ...     ...     ...      ...      ...      ...   \n",
       "17374     1       0  ...       0       0       0        0        0        1   \n",
       "17375     1       0  ...       0       0       0        0        0        1   \n",
       "17376     1       0  ...       0       0       0        0        0        1   \n",
       "17377     1       0  ...       0       0       0        0        0        1   \n",
       "17378     1       0  ...       0       0       0        0        0        1   \n",
       "\n",
       "       holiday_1  weathersit_2  weathersit_3  weathersit_4  \n",
       "0              0             0             0             0  \n",
       "1              0             0             0             0  \n",
       "2              0             0             0             0  \n",
       "3              0             0             0             0  \n",
       "4              0             0             0             0  \n",
       "...          ...           ...           ...           ...  \n",
       "17374          0             1             0             0  \n",
       "17375          0             1             0             0  \n",
       "17376          0             0             0             0  \n",
       "17377          0             0             0             0  \n",
       "17378          0             0             0             0  \n",
       "\n",
       "[17379 rows x 24 columns]"
      ]
     },
     "execution_count": 57,
     "metadata": {},
     "output_type": "execute_result"
    }
   ],
   "source": [
    "dummiesCol = ['season','yr','mnth','holiday','weathersit']\n",
    "bikeFinal = pd.get_dummies(bikeFinal,drop_first=True)\n",
    "bikeFinal"
   ]
  },
  {
   "cell_type": "markdown",
   "id": "67dffcd1",
   "metadata": {},
   "source": [
    "# 7. Collinear Column"
   ]
  },
  {
   "cell_type": "code",
   "execution_count": 58,
   "id": "a3ca3687",
   "metadata": {},
   "outputs": [
    {
     "data": {
      "text/plain": [
       "weathersit_3   -0.128034\n",
       "mnth_2         -0.122113\n",
       "mnth_12        -0.079415\n",
       "mnth_3         -0.057131\n",
       "weathersit_2   -0.046902\n",
       "holiday_1      -0.030927\n",
       "mnth_11        -0.020074\n",
       "weathersit_4   -0.008340\n",
       "mnth_4         -0.003645\n",
       "season_4        0.029421\n",
       "mnth_10         0.054406\n",
       "mnth_5          0.056422\n",
       "season_2        0.060692\n",
       "mnth_7          0.071459\n",
       "mnth_8          0.081657\n",
       "mnth_6          0.084600\n",
       "mnth_9          0.084931\n",
       "windspeed       0.093234\n",
       "season_3        0.151621\n",
       "yr_1            0.250495\n",
       "temp            0.404772\n",
       "casual          0.694564\n",
       "registered      0.972151\n",
       "cnt             1.000000\n",
       "Name: cnt, dtype: float64"
      ]
     },
     "execution_count": 58,
     "metadata": {},
     "output_type": "execute_result"
    }
   ],
   "source": [
    "bikeFinal.corr()['cnt'].sort_values()"
   ]
  },
  {
   "cell_type": "code",
   "execution_count": 59,
   "id": "e9243937",
   "metadata": {},
   "outputs": [],
   "source": [
    "#drop casual and registered because cnt is the sum of casual and registered and very close to the cnt\n",
    "bikeFinal.drop(columns=['casual','registered'],inplace=True)"
   ]
  },
  {
   "cell_type": "markdown",
   "id": "3719ef24",
   "metadata": {},
   "source": [
    "## 8. No Significant Feature"
   ]
  },
  {
   "cell_type": "code",
   "execution_count": 60,
   "id": "2468f35c",
   "metadata": {},
   "outputs": [],
   "source": [
    "col = ['cnt','temp','windspeed']\n",
    "scaler = StandardScaler()\n",
    "bikeFinal[col]= scaler.fit_transform(bikeFinal[col])"
   ]
  },
  {
   "cell_type": "code",
   "execution_count": 61,
   "id": "fbe8e289",
   "metadata": {
    "scrolled": false
   },
   "outputs": [
    {
     "data": {
      "text/html": [
       "<div>\n",
       "<style scoped>\n",
       "    .dataframe tbody tr th:only-of-type {\n",
       "        vertical-align: middle;\n",
       "    }\n",
       "\n",
       "    .dataframe tbody tr th {\n",
       "        vertical-align: top;\n",
       "    }\n",
       "\n",
       "    .dataframe thead th {\n",
       "        text-align: right;\n",
       "    }\n",
       "</style>\n",
       "<table border=\"1\" class=\"dataframe\">\n",
       "  <thead>\n",
       "    <tr style=\"text-align: right;\">\n",
       "      <th></th>\n",
       "      <th>cnt</th>\n",
       "    </tr>\n",
       "  </thead>\n",
       "  <tbody>\n",
       "    <tr>\n",
       "      <th>weathersit_3</th>\n",
       "      <td>-0.128034</td>\n",
       "    </tr>\n",
       "    <tr>\n",
       "      <th>mnth_2</th>\n",
       "      <td>-0.122113</td>\n",
       "    </tr>\n",
       "    <tr>\n",
       "      <th>mnth_12</th>\n",
       "      <td>-0.079415</td>\n",
       "    </tr>\n",
       "    <tr>\n",
       "      <th>mnth_3</th>\n",
       "      <td>-0.057131</td>\n",
       "    </tr>\n",
       "    <tr>\n",
       "      <th>weathersit_2</th>\n",
       "      <td>-0.046902</td>\n",
       "    </tr>\n",
       "    <tr>\n",
       "      <th>holiday_1</th>\n",
       "      <td>-0.030927</td>\n",
       "    </tr>\n",
       "    <tr>\n",
       "      <th>mnth_11</th>\n",
       "      <td>-0.020074</td>\n",
       "    </tr>\n",
       "    <tr>\n",
       "      <th>weathersit_4</th>\n",
       "      <td>-0.008340</td>\n",
       "    </tr>\n",
       "    <tr>\n",
       "      <th>mnth_4</th>\n",
       "      <td>-0.003645</td>\n",
       "    </tr>\n",
       "    <tr>\n",
       "      <th>season_4</th>\n",
       "      <td>0.029421</td>\n",
       "    </tr>\n",
       "    <tr>\n",
       "      <th>mnth_10</th>\n",
       "      <td>0.054406</td>\n",
       "    </tr>\n",
       "    <tr>\n",
       "      <th>mnth_5</th>\n",
       "      <td>0.056422</td>\n",
       "    </tr>\n",
       "    <tr>\n",
       "      <th>season_2</th>\n",
       "      <td>0.060692</td>\n",
       "    </tr>\n",
       "    <tr>\n",
       "      <th>mnth_7</th>\n",
       "      <td>0.071459</td>\n",
       "    </tr>\n",
       "    <tr>\n",
       "      <th>mnth_8</th>\n",
       "      <td>0.081657</td>\n",
       "    </tr>\n",
       "    <tr>\n",
       "      <th>mnth_6</th>\n",
       "      <td>0.084600</td>\n",
       "    </tr>\n",
       "    <tr>\n",
       "      <th>mnth_9</th>\n",
       "      <td>0.084931</td>\n",
       "    </tr>\n",
       "    <tr>\n",
       "      <th>windspeed</th>\n",
       "      <td>0.093234</td>\n",
       "    </tr>\n",
       "    <tr>\n",
       "      <th>season_3</th>\n",
       "      <td>0.151621</td>\n",
       "    </tr>\n",
       "    <tr>\n",
       "      <th>yr_1</th>\n",
       "      <td>0.250495</td>\n",
       "    </tr>\n",
       "    <tr>\n",
       "      <th>temp</th>\n",
       "      <td>0.404772</td>\n",
       "    </tr>\n",
       "    <tr>\n",
       "      <th>cnt</th>\n",
       "      <td>1.000000</td>\n",
       "    </tr>\n",
       "  </tbody>\n",
       "</table>\n",
       "</div>"
      ],
      "text/plain": [
       "                   cnt\n",
       "weathersit_3 -0.128034\n",
       "mnth_2       -0.122113\n",
       "mnth_12      -0.079415\n",
       "mnth_3       -0.057131\n",
       "weathersit_2 -0.046902\n",
       "holiday_1    -0.030927\n",
       "mnth_11      -0.020074\n",
       "weathersit_4 -0.008340\n",
       "mnth_4       -0.003645\n",
       "season_4      0.029421\n",
       "mnth_10       0.054406\n",
       "mnth_5        0.056422\n",
       "season_2      0.060692\n",
       "mnth_7        0.071459\n",
       "mnth_8        0.081657\n",
       "mnth_6        0.084600\n",
       "mnth_9        0.084931\n",
       "windspeed     0.093234\n",
       "season_3      0.151621\n",
       "yr_1          0.250495\n",
       "temp          0.404772\n",
       "cnt           1.000000"
      ]
     },
     "execution_count": 61,
     "metadata": {},
     "output_type": "execute_result"
    }
   ],
   "source": [
    "bikeFinal.corr()[['cnt']].sort_values(by='cnt')"
   ]
  },
  {
   "cell_type": "code",
   "execution_count": 62,
   "id": "cc10231b",
   "metadata": {},
   "outputs": [
    {
     "data": {
      "text/html": [
       "<div>\n",
       "<style scoped>\n",
       "    .dataframe tbody tr th:only-of-type {\n",
       "        vertical-align: middle;\n",
       "    }\n",
       "\n",
       "    .dataframe tbody tr th {\n",
       "        vertical-align: top;\n",
       "    }\n",
       "\n",
       "    .dataframe thead th {\n",
       "        text-align: right;\n",
       "    }\n",
       "</style>\n",
       "<table border=\"1\" class=\"dataframe\">\n",
       "  <thead>\n",
       "    <tr style=\"text-align: right;\">\n",
       "      <th></th>\n",
       "      <th>temp</th>\n",
       "      <th>windspeed</th>\n",
       "      <th>cnt</th>\n",
       "      <th>season_2</th>\n",
       "      <th>season_3</th>\n",
       "      <th>season_4</th>\n",
       "      <th>yr_1</th>\n",
       "      <th>mnth_5</th>\n",
       "      <th>mnth_6</th>\n",
       "      <th>mnth_7</th>\n",
       "      <th>mnth_8</th>\n",
       "      <th>mnth_9</th>\n",
       "      <th>mnth_10</th>\n",
       "    </tr>\n",
       "  </thead>\n",
       "  <tbody>\n",
       "    <tr>\n",
       "      <th>0</th>\n",
       "      <td>-1.334648</td>\n",
       "      <td>-1.553889</td>\n",
       "      <td>-0.956339</td>\n",
       "      <td>0</td>\n",
       "      <td>0</td>\n",
       "      <td>0</td>\n",
       "      <td>0</td>\n",
       "      <td>0</td>\n",
       "      <td>0</td>\n",
       "      <td>0</td>\n",
       "      <td>0</td>\n",
       "      <td>0</td>\n",
       "      <td>0</td>\n",
       "    </tr>\n",
       "    <tr>\n",
       "      <th>1</th>\n",
       "      <td>-1.438516</td>\n",
       "      <td>-1.553889</td>\n",
       "      <td>-0.824022</td>\n",
       "      <td>0</td>\n",
       "      <td>0</td>\n",
       "      <td>0</td>\n",
       "      <td>0</td>\n",
       "      <td>0</td>\n",
       "      <td>0</td>\n",
       "      <td>0</td>\n",
       "      <td>0</td>\n",
       "      <td>0</td>\n",
       "      <td>0</td>\n",
       "    </tr>\n",
       "    <tr>\n",
       "      <th>2</th>\n",
       "      <td>-1.438516</td>\n",
       "      <td>-1.553889</td>\n",
       "      <td>-0.868128</td>\n",
       "      <td>0</td>\n",
       "      <td>0</td>\n",
       "      <td>0</td>\n",
       "      <td>0</td>\n",
       "      <td>0</td>\n",
       "      <td>0</td>\n",
       "      <td>0</td>\n",
       "      <td>0</td>\n",
       "      <td>0</td>\n",
       "      <td>0</td>\n",
       "    </tr>\n",
       "    <tr>\n",
       "      <th>3</th>\n",
       "      <td>-1.334648</td>\n",
       "      <td>-1.553889</td>\n",
       "      <td>-0.972879</td>\n",
       "      <td>0</td>\n",
       "      <td>0</td>\n",
       "      <td>0</td>\n",
       "      <td>0</td>\n",
       "      <td>0</td>\n",
       "      <td>0</td>\n",
       "      <td>0</td>\n",
       "      <td>0</td>\n",
       "      <td>0</td>\n",
       "      <td>0</td>\n",
       "    </tr>\n",
       "    <tr>\n",
       "      <th>4</th>\n",
       "      <td>-1.334648</td>\n",
       "      <td>-1.553889</td>\n",
       "      <td>-1.039037</td>\n",
       "      <td>0</td>\n",
       "      <td>0</td>\n",
       "      <td>0</td>\n",
       "      <td>0</td>\n",
       "      <td>0</td>\n",
       "      <td>0</td>\n",
       "      <td>0</td>\n",
       "      <td>0</td>\n",
       "      <td>0</td>\n",
       "      <td>0</td>\n",
       "    </tr>\n",
       "    <tr>\n",
       "      <th>...</th>\n",
       "      <td>...</td>\n",
       "      <td>...</td>\n",
       "      <td>...</td>\n",
       "      <td>...</td>\n",
       "      <td>...</td>\n",
       "      <td>...</td>\n",
       "      <td>...</td>\n",
       "      <td>...</td>\n",
       "      <td>...</td>\n",
       "      <td>...</td>\n",
       "      <td>...</td>\n",
       "      <td>...</td>\n",
       "      <td>...</td>\n",
       "    </tr>\n",
       "    <tr>\n",
       "      <th>17374</th>\n",
       "      <td>-1.230779</td>\n",
       "      <td>-0.211691</td>\n",
       "      <td>-0.388478</td>\n",
       "      <td>0</td>\n",
       "      <td>0</td>\n",
       "      <td>0</td>\n",
       "      <td>1</td>\n",
       "      <td>0</td>\n",
       "      <td>0</td>\n",
       "      <td>0</td>\n",
       "      <td>0</td>\n",
       "      <td>0</td>\n",
       "      <td>0</td>\n",
       "    </tr>\n",
       "    <tr>\n",
       "      <th>17375</th>\n",
       "      <td>-1.230779</td>\n",
       "      <td>-0.211691</td>\n",
       "      <td>-0.553875</td>\n",
       "      <td>0</td>\n",
       "      <td>0</td>\n",
       "      <td>0</td>\n",
       "      <td>1</td>\n",
       "      <td>0</td>\n",
       "      <td>0</td>\n",
       "      <td>0</td>\n",
       "      <td>0</td>\n",
       "      <td>0</td>\n",
       "      <td>0</td>\n",
       "    </tr>\n",
       "    <tr>\n",
       "      <th>17376</th>\n",
       "      <td>-1.230779</td>\n",
       "      <td>-0.211691</td>\n",
       "      <td>-0.548361</td>\n",
       "      <td>0</td>\n",
       "      <td>0</td>\n",
       "      <td>0</td>\n",
       "      <td>1</td>\n",
       "      <td>0</td>\n",
       "      <td>0</td>\n",
       "      <td>0</td>\n",
       "      <td>0</td>\n",
       "      <td>0</td>\n",
       "      <td>0</td>\n",
       "    </tr>\n",
       "    <tr>\n",
       "      <th>17377</th>\n",
       "      <td>-1.230779</td>\n",
       "      <td>-0.456099</td>\n",
       "      <td>-0.708245</td>\n",
       "      <td>0</td>\n",
       "      <td>0</td>\n",
       "      <td>0</td>\n",
       "      <td>1</td>\n",
       "      <td>0</td>\n",
       "      <td>0</td>\n",
       "      <td>0</td>\n",
       "      <td>0</td>\n",
       "      <td>0</td>\n",
       "      <td>0</td>\n",
       "    </tr>\n",
       "    <tr>\n",
       "      <th>17378</th>\n",
       "      <td>-1.230779</td>\n",
       "      <td>-0.456099</td>\n",
       "      <td>-0.774403</td>\n",
       "      <td>0</td>\n",
       "      <td>0</td>\n",
       "      <td>0</td>\n",
       "      <td>1</td>\n",
       "      <td>0</td>\n",
       "      <td>0</td>\n",
       "      <td>0</td>\n",
       "      <td>0</td>\n",
       "      <td>0</td>\n",
       "      <td>0</td>\n",
       "    </tr>\n",
       "  </tbody>\n",
       "</table>\n",
       "<p>17379 rows × 13 columns</p>\n",
       "</div>"
      ],
      "text/plain": [
       "           temp  windspeed       cnt  season_2  season_3  season_4  yr_1  \\\n",
       "0     -1.334648  -1.553889 -0.956339         0         0         0     0   \n",
       "1     -1.438516  -1.553889 -0.824022         0         0         0     0   \n",
       "2     -1.438516  -1.553889 -0.868128         0         0         0     0   \n",
       "3     -1.334648  -1.553889 -0.972879         0         0         0     0   \n",
       "4     -1.334648  -1.553889 -1.039037         0         0         0     0   \n",
       "...         ...        ...       ...       ...       ...       ...   ...   \n",
       "17374 -1.230779  -0.211691 -0.388478         0         0         0     1   \n",
       "17375 -1.230779  -0.211691 -0.553875         0         0         0     1   \n",
       "17376 -1.230779  -0.211691 -0.548361         0         0         0     1   \n",
       "17377 -1.230779  -0.456099 -0.708245         0         0         0     1   \n",
       "17378 -1.230779  -0.456099 -0.774403         0         0         0     1   \n",
       "\n",
       "       mnth_5  mnth_6  mnth_7  mnth_8  mnth_9  mnth_10  \n",
       "0           0       0       0       0       0        0  \n",
       "1           0       0       0       0       0        0  \n",
       "2           0       0       0       0       0        0  \n",
       "3           0       0       0       0       0        0  \n",
       "4           0       0       0       0       0        0  \n",
       "...       ...     ...     ...     ...     ...      ...  \n",
       "17374       0       0       0       0       0        0  \n",
       "17375       0       0       0       0       0        0  \n",
       "17376       0       0       0       0       0        0  \n",
       "17377       0       0       0       0       0        0  \n",
       "17378       0       0       0       0       0        0  \n",
       "\n",
       "[17379 rows x 13 columns]"
      ]
     },
     "execution_count": 62,
     "metadata": {},
     "output_type": "execute_result"
    }
   ],
   "source": [
    "bikeFinal=bikeFinal.drop(['weathersit_3','mnth_2','mnth_12','mnth_3','weathersit_2','holiday_1','mnth_11','weathersit_4','mnth_4'],axis=1)\n",
    "bikeFinal"
   ]
  },
  {
   "cell_type": "markdown",
   "id": "4455bf22",
   "metadata": {},
   "source": [
    "## 9. Multiple Regression Model"
   ]
  },
  {
   "cell_type": "code",
   "execution_count": 63,
   "id": "c9eb86b6",
   "metadata": {},
   "outputs": [
    {
     "data": {
      "text/html": [
       "<div>\n",
       "<style scoped>\n",
       "    .dataframe tbody tr th:only-of-type {\n",
       "        vertical-align: middle;\n",
       "    }\n",
       "\n",
       "    .dataframe tbody tr th {\n",
       "        vertical-align: top;\n",
       "    }\n",
       "\n",
       "    .dataframe thead th {\n",
       "        text-align: right;\n",
       "    }\n",
       "</style>\n",
       "<table border=\"1\" class=\"dataframe\">\n",
       "  <thead>\n",
       "    <tr style=\"text-align: right;\">\n",
       "      <th></th>\n",
       "      <th>temp</th>\n",
       "      <th>windspeed</th>\n",
       "      <th>season_2</th>\n",
       "      <th>season_3</th>\n",
       "      <th>season_4</th>\n",
       "      <th>yr_1</th>\n",
       "      <th>mnth_5</th>\n",
       "      <th>mnth_6</th>\n",
       "      <th>mnth_7</th>\n",
       "      <th>mnth_8</th>\n",
       "      <th>mnth_9</th>\n",
       "      <th>mnth_10</th>\n",
       "    </tr>\n",
       "  </thead>\n",
       "  <tbody>\n",
       "    <tr>\n",
       "      <th>0</th>\n",
       "      <td>-1.334648</td>\n",
       "      <td>-1.553889</td>\n",
       "      <td>0</td>\n",
       "      <td>0</td>\n",
       "      <td>0</td>\n",
       "      <td>0</td>\n",
       "      <td>0</td>\n",
       "      <td>0</td>\n",
       "      <td>0</td>\n",
       "      <td>0</td>\n",
       "      <td>0</td>\n",
       "      <td>0</td>\n",
       "    </tr>\n",
       "    <tr>\n",
       "      <th>1</th>\n",
       "      <td>-1.438516</td>\n",
       "      <td>-1.553889</td>\n",
       "      <td>0</td>\n",
       "      <td>0</td>\n",
       "      <td>0</td>\n",
       "      <td>0</td>\n",
       "      <td>0</td>\n",
       "      <td>0</td>\n",
       "      <td>0</td>\n",
       "      <td>0</td>\n",
       "      <td>0</td>\n",
       "      <td>0</td>\n",
       "    </tr>\n",
       "    <tr>\n",
       "      <th>2</th>\n",
       "      <td>-1.438516</td>\n",
       "      <td>-1.553889</td>\n",
       "      <td>0</td>\n",
       "      <td>0</td>\n",
       "      <td>0</td>\n",
       "      <td>0</td>\n",
       "      <td>0</td>\n",
       "      <td>0</td>\n",
       "      <td>0</td>\n",
       "      <td>0</td>\n",
       "      <td>0</td>\n",
       "      <td>0</td>\n",
       "    </tr>\n",
       "    <tr>\n",
       "      <th>3</th>\n",
       "      <td>-1.334648</td>\n",
       "      <td>-1.553889</td>\n",
       "      <td>0</td>\n",
       "      <td>0</td>\n",
       "      <td>0</td>\n",
       "      <td>0</td>\n",
       "      <td>0</td>\n",
       "      <td>0</td>\n",
       "      <td>0</td>\n",
       "      <td>0</td>\n",
       "      <td>0</td>\n",
       "      <td>0</td>\n",
       "    </tr>\n",
       "    <tr>\n",
       "      <th>4</th>\n",
       "      <td>-1.334648</td>\n",
       "      <td>-1.553889</td>\n",
       "      <td>0</td>\n",
       "      <td>0</td>\n",
       "      <td>0</td>\n",
       "      <td>0</td>\n",
       "      <td>0</td>\n",
       "      <td>0</td>\n",
       "      <td>0</td>\n",
       "      <td>0</td>\n",
       "      <td>0</td>\n",
       "      <td>0</td>\n",
       "    </tr>\n",
       "    <tr>\n",
       "      <th>...</th>\n",
       "      <td>...</td>\n",
       "      <td>...</td>\n",
       "      <td>...</td>\n",
       "      <td>...</td>\n",
       "      <td>...</td>\n",
       "      <td>...</td>\n",
       "      <td>...</td>\n",
       "      <td>...</td>\n",
       "      <td>...</td>\n",
       "      <td>...</td>\n",
       "      <td>...</td>\n",
       "      <td>...</td>\n",
       "    </tr>\n",
       "    <tr>\n",
       "      <th>17374</th>\n",
       "      <td>-1.230779</td>\n",
       "      <td>-0.211691</td>\n",
       "      <td>0</td>\n",
       "      <td>0</td>\n",
       "      <td>0</td>\n",
       "      <td>1</td>\n",
       "      <td>0</td>\n",
       "      <td>0</td>\n",
       "      <td>0</td>\n",
       "      <td>0</td>\n",
       "      <td>0</td>\n",
       "      <td>0</td>\n",
       "    </tr>\n",
       "    <tr>\n",
       "      <th>17375</th>\n",
       "      <td>-1.230779</td>\n",
       "      <td>-0.211691</td>\n",
       "      <td>0</td>\n",
       "      <td>0</td>\n",
       "      <td>0</td>\n",
       "      <td>1</td>\n",
       "      <td>0</td>\n",
       "      <td>0</td>\n",
       "      <td>0</td>\n",
       "      <td>0</td>\n",
       "      <td>0</td>\n",
       "      <td>0</td>\n",
       "    </tr>\n",
       "    <tr>\n",
       "      <th>17376</th>\n",
       "      <td>-1.230779</td>\n",
       "      <td>-0.211691</td>\n",
       "      <td>0</td>\n",
       "      <td>0</td>\n",
       "      <td>0</td>\n",
       "      <td>1</td>\n",
       "      <td>0</td>\n",
       "      <td>0</td>\n",
       "      <td>0</td>\n",
       "      <td>0</td>\n",
       "      <td>0</td>\n",
       "      <td>0</td>\n",
       "    </tr>\n",
       "    <tr>\n",
       "      <th>17377</th>\n",
       "      <td>-1.230779</td>\n",
       "      <td>-0.456099</td>\n",
       "      <td>0</td>\n",
       "      <td>0</td>\n",
       "      <td>0</td>\n",
       "      <td>1</td>\n",
       "      <td>0</td>\n",
       "      <td>0</td>\n",
       "      <td>0</td>\n",
       "      <td>0</td>\n",
       "      <td>0</td>\n",
       "      <td>0</td>\n",
       "    </tr>\n",
       "    <tr>\n",
       "      <th>17378</th>\n",
       "      <td>-1.230779</td>\n",
       "      <td>-0.456099</td>\n",
       "      <td>0</td>\n",
       "      <td>0</td>\n",
       "      <td>0</td>\n",
       "      <td>1</td>\n",
       "      <td>0</td>\n",
       "      <td>0</td>\n",
       "      <td>0</td>\n",
       "      <td>0</td>\n",
       "      <td>0</td>\n",
       "      <td>0</td>\n",
       "    </tr>\n",
       "  </tbody>\n",
       "</table>\n",
       "<p>17379 rows × 12 columns</p>\n",
       "</div>"
      ],
      "text/plain": [
       "           temp  windspeed  season_2  season_3  season_4  yr_1  mnth_5  \\\n",
       "0     -1.334648  -1.553889         0         0         0     0       0   \n",
       "1     -1.438516  -1.553889         0         0         0     0       0   \n",
       "2     -1.438516  -1.553889         0         0         0     0       0   \n",
       "3     -1.334648  -1.553889         0         0         0     0       0   \n",
       "4     -1.334648  -1.553889         0         0         0     0       0   \n",
       "...         ...        ...       ...       ...       ...   ...     ...   \n",
       "17374 -1.230779  -0.211691         0         0         0     1       0   \n",
       "17375 -1.230779  -0.211691         0         0         0     1       0   \n",
       "17376 -1.230779  -0.211691         0         0         0     1       0   \n",
       "17377 -1.230779  -0.456099         0         0         0     1       0   \n",
       "17378 -1.230779  -0.456099         0         0         0     1       0   \n",
       "\n",
       "       mnth_6  mnth_7  mnth_8  mnth_9  mnth_10  \n",
       "0           0       0       0       0        0  \n",
       "1           0       0       0       0        0  \n",
       "2           0       0       0       0        0  \n",
       "3           0       0       0       0        0  \n",
       "4           0       0       0       0        0  \n",
       "...       ...     ...     ...     ...      ...  \n",
       "17374       0       0       0       0        0  \n",
       "17375       0       0       0       0        0  \n",
       "17376       0       0       0       0        0  \n",
       "17377       0       0       0       0        0  \n",
       "17378       0       0       0       0        0  \n",
       "\n",
       "[17379 rows x 12 columns]"
      ]
     },
     "execution_count": 63,
     "metadata": {},
     "output_type": "execute_result"
    }
   ],
   "source": [
    "bikeCol = bikeFinal.drop(['cnt'],axis=1)\n",
    "bikeCol"
   ]
  },
  {
   "cell_type": "code",
   "execution_count": 64,
   "id": "ccfe2cbb",
   "metadata": {},
   "outputs": [],
   "source": [
    "x_train, x_test, y_train, y_test = train_test_split(bikeCol,\n",
    "                                                    bikeFinal[['cnt']],  train_size=0.70, test_size=0.30, random_state=42)"
   ]
  },
  {
   "cell_type": "code",
   "execution_count": 65,
   "id": "b16c8afb",
   "metadata": {},
   "outputs": [
    {
     "data": {
      "text/plain": [
       "LinearRegression()"
      ]
     },
     "execution_count": 65,
     "metadata": {},
     "output_type": "execute_result"
    }
   ],
   "source": [
    "model = LinearRegression()\n",
    "model.fit(x_train, y_train)"
   ]
  },
  {
   "cell_type": "code",
   "execution_count": 66,
   "id": "74d1d79a",
   "metadata": {},
   "outputs": [
    {
     "data": {
      "text/plain": [
       "0.2715665010043308"
      ]
     },
     "execution_count": 66,
     "metadata": {},
     "output_type": "execute_result"
    }
   ],
   "source": [
    "model.score(x_train,y_train)"
   ]
  },
  {
   "cell_type": "code",
   "execution_count": 67,
   "id": "17cd7bec",
   "metadata": {},
   "outputs": [
    {
     "data": {
      "text/plain": [
       "0.25661601670307954"
      ]
     },
     "execution_count": 67,
     "metadata": {},
     "output_type": "execute_result"
    }
   ],
   "source": [
    "model.score(x_test,y_test)"
   ]
  },
  {
   "cell_type": "markdown",
   "id": "74d02ddb",
   "metadata": {},
   "source": [
    "- R squared value test data: 0.2566\n",
    "- R squared value train data: 0.2716"
   ]
  },
  {
   "cell_type": "code",
   "execution_count": 68,
   "id": "07860663",
   "metadata": {},
   "outputs": [],
   "source": [
    "y_predicted = model.predict(x_test)"
   ]
  },
  {
   "cell_type": "code",
   "execution_count": 69,
   "id": "54c990ad",
   "metadata": {},
   "outputs": [],
   "source": [
    "predicted = pd.DataFrame(y_predicted, columns=['predictedCNT'])"
   ]
  },
  {
   "cell_type": "code",
   "execution_count": 70,
   "id": "6097182a",
   "metadata": {},
   "outputs": [
    {
     "data": {
      "text/html": [
       "<div>\n",
       "<style scoped>\n",
       "    .dataframe tbody tr th:only-of-type {\n",
       "        vertical-align: middle;\n",
       "    }\n",
       "\n",
       "    .dataframe tbody tr th {\n",
       "        vertical-align: top;\n",
       "    }\n",
       "\n",
       "    .dataframe thead th {\n",
       "        text-align: right;\n",
       "    }\n",
       "</style>\n",
       "<table border=\"1\" class=\"dataframe\">\n",
       "  <thead>\n",
       "    <tr style=\"text-align: right;\">\n",
       "      <th></th>\n",
       "      <th>predictedCNT</th>\n",
       "      <th>temp</th>\n",
       "      <th>windspeed</th>\n",
       "      <th>season_2</th>\n",
       "      <th>season_3</th>\n",
       "      <th>season_4</th>\n",
       "      <th>yr_1</th>\n",
       "      <th>mnth_5</th>\n",
       "      <th>mnth_6</th>\n",
       "      <th>mnth_7</th>\n",
       "      <th>mnth_8</th>\n",
       "      <th>mnth_9</th>\n",
       "      <th>mnth_10</th>\n",
       "      <th>cnt</th>\n",
       "    </tr>\n",
       "  </thead>\n",
       "  <tbody>\n",
       "    <tr>\n",
       "      <th>0</th>\n",
       "      <td>0.840831</td>\n",
       "      <td>1.573679</td>\n",
       "      <td>0.031899</td>\n",
       "      <td>0</td>\n",
       "      <td>1</td>\n",
       "      <td>0</td>\n",
       "      <td>1</td>\n",
       "      <td>0</td>\n",
       "      <td>1</td>\n",
       "      <td>0</td>\n",
       "      <td>0</td>\n",
       "      <td>0</td>\n",
       "      <td>0</td>\n",
       "      <td>1.298566</td>\n",
       "    </tr>\n",
       "    <tr>\n",
       "      <th>1</th>\n",
       "      <td>-0.389485</td>\n",
       "      <td>-1.334648</td>\n",
       "      <td>0.276306</td>\n",
       "      <td>0</td>\n",
       "      <td>0</td>\n",
       "      <td>0</td>\n",
       "      <td>1</td>\n",
       "      <td>0</td>\n",
       "      <td>0</td>\n",
       "      <td>0</td>\n",
       "      <td>0</td>\n",
       "      <td>0</td>\n",
       "      <td>0</td>\n",
       "      <td>-0.559388</td>\n",
       "    </tr>\n",
       "    <tr>\n",
       "      <th>2</th>\n",
       "      <td>-0.504295</td>\n",
       "      <td>-0.919172</td>\n",
       "      <td>0.764304</td>\n",
       "      <td>0</td>\n",
       "      <td>0</td>\n",
       "      <td>1</td>\n",
       "      <td>0</td>\n",
       "      <td>0</td>\n",
       "      <td>0</td>\n",
       "      <td>0</td>\n",
       "      <td>0</td>\n",
       "      <td>0</td>\n",
       "      <td>1</td>\n",
       "      <td>-1.022498</td>\n",
       "    </tr>\n",
       "    <tr>\n",
       "      <th>3</th>\n",
       "      <td>1.164348</td>\n",
       "      <td>1.469810</td>\n",
       "      <td>1.374096</td>\n",
       "      <td>1</td>\n",
       "      <td>0</td>\n",
       "      <td>0</td>\n",
       "      <td>1</td>\n",
       "      <td>1</td>\n",
       "      <td>0</td>\n",
       "      <td>0</td>\n",
       "      <td>0</td>\n",
       "      <td>0</td>\n",
       "      <td>0</td>\n",
       "      <td>1.855400</td>\n",
       "    </tr>\n",
       "    <tr>\n",
       "      <th>4</th>\n",
       "      <td>-0.675143</td>\n",
       "      <td>-1.230779</td>\n",
       "      <td>1.618504</td>\n",
       "      <td>0</td>\n",
       "      <td>0</td>\n",
       "      <td>0</td>\n",
       "      <td>0</td>\n",
       "      <td>0</td>\n",
       "      <td>0</td>\n",
       "      <td>0</td>\n",
       "      <td>0</td>\n",
       "      <td>0</td>\n",
       "      <td>0</td>\n",
       "      <td>-0.972879</td>\n",
       "    </tr>\n",
       "    <tr>\n",
       "      <th>...</th>\n",
       "      <td>...</td>\n",
       "      <td>...</td>\n",
       "      <td>...</td>\n",
       "      <td>...</td>\n",
       "      <td>...</td>\n",
       "      <td>...</td>\n",
       "      <td>...</td>\n",
       "      <td>...</td>\n",
       "      <td>...</td>\n",
       "      <td>...</td>\n",
       "      <td>...</td>\n",
       "      <td>...</td>\n",
       "      <td>...</td>\n",
       "      <td>...</td>\n",
       "    </tr>\n",
       "    <tr>\n",
       "      <th>5209</th>\n",
       "      <td>0.928661</td>\n",
       "      <td>1.677548</td>\n",
       "      <td>-0.456099</td>\n",
       "      <td>1</td>\n",
       "      <td>0</td>\n",
       "      <td>0</td>\n",
       "      <td>1</td>\n",
       "      <td>0</td>\n",
       "      <td>1</td>\n",
       "      <td>0</td>\n",
       "      <td>0</td>\n",
       "      <td>0</td>\n",
       "      <td>0</td>\n",
       "      <td>-0.123844</td>\n",
       "    </tr>\n",
       "    <tr>\n",
       "      <th>5210</th>\n",
       "      <td>-0.164757</td>\n",
       "      <td>-0.607566</td>\n",
       "      <td>-1.553889</td>\n",
       "      <td>1</td>\n",
       "      <td>0</td>\n",
       "      <td>0</td>\n",
       "      <td>1</td>\n",
       "      <td>0</td>\n",
       "      <td>0</td>\n",
       "      <td>0</td>\n",
       "      <td>0</td>\n",
       "      <td>0</td>\n",
       "      <td>0</td>\n",
       "      <td>0.135277</td>\n",
       "    </tr>\n",
       "    <tr>\n",
       "      <th>5211</th>\n",
       "      <td>0.861966</td>\n",
       "      <td>1.573679</td>\n",
       "      <td>0.276306</td>\n",
       "      <td>0</td>\n",
       "      <td>1</td>\n",
       "      <td>0</td>\n",
       "      <td>1</td>\n",
       "      <td>0</td>\n",
       "      <td>1</td>\n",
       "      <td>0</td>\n",
       "      <td>0</td>\n",
       "      <td>0</td>\n",
       "      <td>0</td>\n",
       "      <td>2.020797</td>\n",
       "    </tr>\n",
       "    <tr>\n",
       "      <th>5212</th>\n",
       "      <td>0.721025</td>\n",
       "      <td>0.119516</td>\n",
       "      <td>0.031899</td>\n",
       "      <td>0</td>\n",
       "      <td>0</td>\n",
       "      <td>1</td>\n",
       "      <td>1</td>\n",
       "      <td>0</td>\n",
       "      <td>0</td>\n",
       "      <td>0</td>\n",
       "      <td>0</td>\n",
       "      <td>0</td>\n",
       "      <td>0</td>\n",
       "      <td>0.675572</td>\n",
       "    </tr>\n",
       "    <tr>\n",
       "      <th>5213</th>\n",
       "      <td>-0.742085</td>\n",
       "      <td>-1.750123</td>\n",
       "      <td>-0.699689</td>\n",
       "      <td>0</td>\n",
       "      <td>0</td>\n",
       "      <td>0</td>\n",
       "      <td>1</td>\n",
       "      <td>0</td>\n",
       "      <td>0</td>\n",
       "      <td>0</td>\n",
       "      <td>0</td>\n",
       "      <td>0</td>\n",
       "      <td>0</td>\n",
       "      <td>-0.647599</td>\n",
       "    </tr>\n",
       "  </tbody>\n",
       "</table>\n",
       "<p>5214 rows × 14 columns</p>\n",
       "</div>"
      ],
      "text/plain": [
       "      predictedCNT      temp  windspeed  season_2  season_3  season_4  yr_1  \\\n",
       "0         0.840831  1.573679   0.031899         0         1         0     1   \n",
       "1        -0.389485 -1.334648   0.276306         0         0         0     1   \n",
       "2        -0.504295 -0.919172   0.764304         0         0         1     0   \n",
       "3         1.164348  1.469810   1.374096         1         0         0     1   \n",
       "4        -0.675143 -1.230779   1.618504         0         0         0     0   \n",
       "...            ...       ...        ...       ...       ...       ...   ...   \n",
       "5209      0.928661  1.677548  -0.456099         1         0         0     1   \n",
       "5210     -0.164757 -0.607566  -1.553889         1         0         0     1   \n",
       "5211      0.861966  1.573679   0.276306         0         1         0     1   \n",
       "5212      0.721025  0.119516   0.031899         0         0         1     1   \n",
       "5213     -0.742085 -1.750123  -0.699689         0         0         0     1   \n",
       "\n",
       "      mnth_5  mnth_6  mnth_7  mnth_8  mnth_9  mnth_10       cnt  \n",
       "0          0       1       0       0       0        0  1.298566  \n",
       "1          0       0       0       0       0        0 -0.559388  \n",
       "2          0       0       0       0       0        1 -1.022498  \n",
       "3          1       0       0       0       0        0  1.855400  \n",
       "4          0       0       0       0       0        0 -0.972879  \n",
       "...      ...     ...     ...     ...     ...      ...       ...  \n",
       "5209       0       1       0       0       0        0 -0.123844  \n",
       "5210       0       0       0       0       0        0  0.135277  \n",
       "5211       0       1       0       0       0        0  2.020797  \n",
       "5212       0       0       0       0       0        0  0.675572  \n",
       "5213       0       0       0       0       0        0 -0.647599  \n",
       "\n",
       "[5214 rows x 14 columns]"
      ]
     },
     "execution_count": 70,
     "metadata": {},
     "output_type": "execute_result"
    }
   ],
   "source": [
    "final = predicted.join([x_test.reset_index(drop=True), \n",
    "                        y_test.reset_index(drop=True)])\n",
    "final"
   ]
  },
  {
   "cell_type": "markdown",
   "id": "4bd428d1",
   "metadata": {},
   "source": [
    "## 10. Multiple Regression Model with fewer features"
   ]
  },
  {
   "cell_type": "code",
   "execution_count": 71,
   "id": "7b7dc398",
   "metadata": {},
   "outputs": [
    {
     "data": {
      "text/plain": [
       "season_4     0.029421\n",
       "mnth_10      0.054406\n",
       "mnth_5       0.056422\n",
       "season_2     0.060692\n",
       "mnth_7       0.071459\n",
       "mnth_8       0.081657\n",
       "mnth_6       0.084600\n",
       "mnth_9       0.084931\n",
       "windspeed    0.093234\n",
       "season_3     0.151621\n",
       "yr_1         0.250495\n",
       "temp         0.404772\n",
       "cnt          1.000000\n",
       "Name: cnt, dtype: float64"
      ]
     },
     "execution_count": 71,
     "metadata": {},
     "output_type": "execute_result"
    }
   ],
   "source": [
    "bikeFinal.corr()['cnt'].sort_values()"
   ]
  },
  {
   "cell_type": "code",
   "execution_count": 72,
   "id": "0aa94051",
   "metadata": {},
   "outputs": [],
   "source": [
    "x_train, x_test, y_train, y_test = train_test_split(bikeFinal[['temp','windspeed','yr_1','season_3']],\n",
    "                                                    bikeFinal[['cnt']],  train_size=0.70, test_size=0.30, random_state=42)"
   ]
  },
  {
   "cell_type": "code",
   "execution_count": 73,
   "id": "4d479e1c",
   "metadata": {},
   "outputs": [
    {
     "data": {
      "text/plain": [
       "LinearRegression()"
      ]
     },
     "execution_count": 73,
     "metadata": {},
     "output_type": "execute_result"
    }
   ],
   "source": [
    "model.fit(x_train,y_train)"
   ]
  },
  {
   "cell_type": "code",
   "execution_count": 74,
   "id": "3636b215",
   "metadata": {},
   "outputs": [
    {
     "data": {
      "text/plain": [
       "0.2464356353114665"
      ]
     },
     "execution_count": 74,
     "metadata": {},
     "output_type": "execute_result"
    }
   ],
   "source": [
    "model.score(x_train,y_train)"
   ]
  },
  {
   "cell_type": "code",
   "execution_count": 75,
   "id": "b3443765",
   "metadata": {},
   "outputs": [
    {
     "data": {
      "text/plain": [
       "0.23972061793498256"
      ]
     },
     "execution_count": 75,
     "metadata": {},
     "output_type": "execute_result"
    }
   ],
   "source": [
    "model.score(x_test,y_test)"
   ]
  },
  {
   "cell_type": "markdown",
   "id": "f531af75",
   "metadata": {},
   "source": [
    "R squared value for train is 0.2464\n",
    "R squared value for test is 0.2397"
   ]
  },
  {
   "cell_type": "code",
   "execution_count": 76,
   "id": "b577a16a",
   "metadata": {},
   "outputs": [
    {
     "data": {
      "text/plain": [
       "array([[ 0.76692126],\n",
       "       [-0.29810535],\n",
       "       [-0.52918577],\n",
       "       ...,\n",
       "       [ 0.78919456],\n",
       "       [ 0.40639628],\n",
       "       [-0.59469953]])"
      ]
     },
     "execution_count": 76,
     "metadata": {},
     "output_type": "execute_result"
    }
   ],
   "source": [
    "y_predicted = model.predict(x_test)\n",
    "y_predicted"
   ]
  },
  {
   "cell_type": "code",
   "execution_count": 77,
   "id": "790ed815",
   "metadata": {},
   "outputs": [],
   "source": [
    "predicted = pd.DataFrame(y_predicted, columns=['predictedcnt'])"
   ]
  },
  {
   "cell_type": "code",
   "execution_count": 78,
   "id": "f7b6a51e",
   "metadata": {},
   "outputs": [
    {
     "data": {
      "text/html": [
       "<div>\n",
       "<style scoped>\n",
       "    .dataframe tbody tr th:only-of-type {\n",
       "        vertical-align: middle;\n",
       "    }\n",
       "\n",
       "    .dataframe tbody tr th {\n",
       "        vertical-align: top;\n",
       "    }\n",
       "\n",
       "    .dataframe thead th {\n",
       "        text-align: right;\n",
       "    }\n",
       "</style>\n",
       "<table border=\"1\" class=\"dataframe\">\n",
       "  <thead>\n",
       "    <tr style=\"text-align: right;\">\n",
       "      <th></th>\n",
       "      <th>predictedcnt</th>\n",
       "      <th>temp</th>\n",
       "      <th>windspeed</th>\n",
       "      <th>yr_1</th>\n",
       "      <th>season_3</th>\n",
       "      <th>cnt</th>\n",
       "    </tr>\n",
       "  </thead>\n",
       "  <tbody>\n",
       "    <tr>\n",
       "      <th>0</th>\n",
       "      <td>0.766921</td>\n",
       "      <td>1.573679</td>\n",
       "      <td>0.031899</td>\n",
       "      <td>1</td>\n",
       "      <td>1</td>\n",
       "      <td>1.298566</td>\n",
       "    </tr>\n",
       "    <tr>\n",
       "      <th>1</th>\n",
       "      <td>-0.298105</td>\n",
       "      <td>-1.334648</td>\n",
       "      <td>0.276306</td>\n",
       "      <td>1</td>\n",
       "      <td>0</td>\n",
       "      <td>-0.559388</td>\n",
       "    </tr>\n",
       "    <tr>\n",
       "      <th>2</th>\n",
       "      <td>-0.529186</td>\n",
       "      <td>-0.919172</td>\n",
       "      <td>0.764304</td>\n",
       "      <td>0</td>\n",
       "      <td>0</td>\n",
       "      <td>-1.022498</td>\n",
       "    </tr>\n",
       "    <tr>\n",
       "      <th>3</th>\n",
       "      <td>1.203576</td>\n",
       "      <td>1.469810</td>\n",
       "      <td>1.374096</td>\n",
       "      <td>1</td>\n",
       "      <td>0</td>\n",
       "      <td>1.855400</td>\n",
       "    </tr>\n",
       "    <tr>\n",
       "      <th>4</th>\n",
       "      <td>-0.607078</td>\n",
       "      <td>-1.230779</td>\n",
       "      <td>1.618504</td>\n",
       "      <td>0</td>\n",
       "      <td>0</td>\n",
       "      <td>-0.972879</td>\n",
       "    </tr>\n",
       "    <tr>\n",
       "      <th>...</th>\n",
       "      <td>...</td>\n",
       "      <td>...</td>\n",
       "      <td>...</td>\n",
       "      <td>...</td>\n",
       "      <td>...</td>\n",
       "      <td>...</td>\n",
       "    </tr>\n",
       "    <tr>\n",
       "      <th>5209</th>\n",
       "      <td>1.140612</td>\n",
       "      <td>1.677548</td>\n",
       "      <td>-0.456099</td>\n",
       "      <td>1</td>\n",
       "      <td>0</td>\n",
       "      <td>-0.123844</td>\n",
       "    </tr>\n",
       "    <tr>\n",
       "      <th>5210</th>\n",
       "      <td>-0.101507</td>\n",
       "      <td>-0.607566</td>\n",
       "      <td>-1.553889</td>\n",
       "      <td>1</td>\n",
       "      <td>0</td>\n",
       "      <td>0.135277</td>\n",
       "    </tr>\n",
       "    <tr>\n",
       "      <th>5211</th>\n",
       "      <td>0.789195</td>\n",
       "      <td>1.573679</td>\n",
       "      <td>0.276306</td>\n",
       "      <td>1</td>\n",
       "      <td>1</td>\n",
       "      <td>2.020797</td>\n",
       "    </tr>\n",
       "    <tr>\n",
       "      <th>5212</th>\n",
       "      <td>0.406396</td>\n",
       "      <td>0.119516</td>\n",
       "      <td>0.031899</td>\n",
       "      <td>1</td>\n",
       "      <td>0</td>\n",
       "      <td>0.675572</td>\n",
       "    </tr>\n",
       "    <tr>\n",
       "      <th>5213</th>\n",
       "      <td>-0.594700</td>\n",
       "      <td>-1.750123</td>\n",
       "      <td>-0.699689</td>\n",
       "      <td>1</td>\n",
       "      <td>0</td>\n",
       "      <td>-0.647599</td>\n",
       "    </tr>\n",
       "  </tbody>\n",
       "</table>\n",
       "<p>5214 rows × 6 columns</p>\n",
       "</div>"
      ],
      "text/plain": [
       "      predictedcnt      temp  windspeed  yr_1  season_3       cnt\n",
       "0         0.766921  1.573679   0.031899     1         1  1.298566\n",
       "1        -0.298105 -1.334648   0.276306     1         0 -0.559388\n",
       "2        -0.529186 -0.919172   0.764304     0         0 -1.022498\n",
       "3         1.203576  1.469810   1.374096     1         0  1.855400\n",
       "4        -0.607078 -1.230779   1.618504     0         0 -0.972879\n",
       "...            ...       ...        ...   ...       ...       ...\n",
       "5209      1.140612  1.677548  -0.456099     1         0 -0.123844\n",
       "5210     -0.101507 -0.607566  -1.553889     1         0  0.135277\n",
       "5211      0.789195  1.573679   0.276306     1         1  2.020797\n",
       "5212      0.406396  0.119516   0.031899     1         0  0.675572\n",
       "5213     -0.594700 -1.750123  -0.699689     1         0 -0.647599\n",
       "\n",
       "[5214 rows x 6 columns]"
      ]
     },
     "execution_count": 78,
     "metadata": {},
     "output_type": "execute_result"
    }
   ],
   "source": [
    "final = predicted.join([x_test.reset_index(drop=True), \n",
    "                        y_test.reset_index(drop=True)])\n",
    "final"
   ]
  },
  {
   "cell_type": "markdown",
   "id": "b255912e",
   "metadata": {},
   "source": [
    "## 11. Extra Credit"
   ]
  },
  {
   "cell_type": "code",
   "execution_count": 79,
   "id": "1ffc003b",
   "metadata": {},
   "outputs": [],
   "source": [
    "Train, Test = train_test_split(bikeFinal, train_size=0.70, test_size=0.30, random_state=42)"
   ]
  },
  {
   "cell_type": "code",
   "execution_count": 80,
   "id": "479eb176",
   "metadata": {},
   "outputs": [
    {
     "data": {
      "text/plain": [
       "SelectKBest(k=5,\n",
       "            score_func=<function mutual_info_regression at 0x000001F5831C8280>)"
      ]
     },
     "execution_count": 80,
     "metadata": {},
     "output_type": "execute_result"
    }
   ],
   "source": [
    "fs = SelectKBest(score_func=mutual_info_regression, k=5)\n",
    "fs.fit(Train.drop(columns=['cnt']), Train['cnt'])"
   ]
  },
  {
   "cell_type": "markdown",
   "id": "8470b48c",
   "metadata": {},
   "source": [
    "### Imporatance of Feature in Train"
   ]
  },
  {
   "cell_type": "code",
   "execution_count": 81,
   "id": "804f6f07",
   "metadata": {},
   "outputs": [],
   "source": [
    "df1 = pd.DataFrame(Train.drop(columns=['cnt']).columns,\n",
    "                   columns=['cnt'])"
   ]
  },
  {
   "cell_type": "code",
   "execution_count": 82,
   "id": "2afacb56",
   "metadata": {},
   "outputs": [
    {
     "data": {
      "text/html": [
       "<div>\n",
       "<style scoped>\n",
       "    .dataframe tbody tr th:only-of-type {\n",
       "        vertical-align: middle;\n",
       "    }\n",
       "\n",
       "    .dataframe tbody tr th {\n",
       "        vertical-align: top;\n",
       "    }\n",
       "\n",
       "    .dataframe thead th {\n",
       "        text-align: right;\n",
       "    }\n",
       "</style>\n",
       "<table border=\"1\" class=\"dataframe\">\n",
       "  <thead>\n",
       "    <tr style=\"text-align: right;\">\n",
       "      <th></th>\n",
       "      <th>cnt</th>\n",
       "      <th>importance</th>\n",
       "    </tr>\n",
       "  </thead>\n",
       "  <tbody>\n",
       "    <tr>\n",
       "      <th>0</th>\n",
       "      <td>temp</td>\n",
       "      <td>0.144178</td>\n",
       "    </tr>\n",
       "    <tr>\n",
       "      <th>5</th>\n",
       "      <td>yr_1</td>\n",
       "      <td>0.044457</td>\n",
       "    </tr>\n",
       "    <tr>\n",
       "      <th>1</th>\n",
       "      <td>windspeed</td>\n",
       "      <td>0.024659</td>\n",
       "    </tr>\n",
       "    <tr>\n",
       "      <th>9</th>\n",
       "      <td>mnth_8</td>\n",
       "      <td>0.019518</td>\n",
       "    </tr>\n",
       "    <tr>\n",
       "      <th>3</th>\n",
       "      <td>season_3</td>\n",
       "      <td>0.009634</td>\n",
       "    </tr>\n",
       "    <tr>\n",
       "      <th>7</th>\n",
       "      <td>mnth_6</td>\n",
       "      <td>0.007724</td>\n",
       "    </tr>\n",
       "    <tr>\n",
       "      <th>8</th>\n",
       "      <td>mnth_7</td>\n",
       "      <td>0.001750</td>\n",
       "    </tr>\n",
       "    <tr>\n",
       "      <th>10</th>\n",
       "      <td>mnth_9</td>\n",
       "      <td>0.001126</td>\n",
       "    </tr>\n",
       "    <tr>\n",
       "      <th>11</th>\n",
       "      <td>mnth_10</td>\n",
       "      <td>0.001045</td>\n",
       "    </tr>\n",
       "    <tr>\n",
       "      <th>2</th>\n",
       "      <td>season_2</td>\n",
       "      <td>0.000910</td>\n",
       "    </tr>\n",
       "    <tr>\n",
       "      <th>4</th>\n",
       "      <td>season_4</td>\n",
       "      <td>0.000604</td>\n",
       "    </tr>\n",
       "    <tr>\n",
       "      <th>6</th>\n",
       "      <td>mnth_5</td>\n",
       "      <td>0.000000</td>\n",
       "    </tr>\n",
       "  </tbody>\n",
       "</table>\n",
       "</div>"
      ],
      "text/plain": [
       "          cnt  importance\n",
       "0        temp    0.144178\n",
       "5        yr_1    0.044457\n",
       "1   windspeed    0.024659\n",
       "9      mnth_8    0.019518\n",
       "3    season_3    0.009634\n",
       "7      mnth_6    0.007724\n",
       "8      mnth_7    0.001750\n",
       "10     mnth_9    0.001126\n",
       "11    mnth_10    0.001045\n",
       "2    season_2    0.000910\n",
       "4    season_4    0.000604\n",
       "6      mnth_5    0.000000"
      ]
     },
     "execution_count": 82,
     "metadata": {},
     "output_type": "execute_result"
    }
   ],
   "source": [
    "df2 = pd.DataFrame(fs.scores_, columns=['importance'])\n",
    "importance1 = df1.join(df2)\n",
    "importance1.sort_values('importance', ascending=False)"
   ]
  },
  {
   "cell_type": "markdown",
   "id": "896957d5",
   "metadata": {},
   "source": [
    "- temp and yr_1 is important"
   ]
  },
  {
   "cell_type": "markdown",
   "id": "bd430053",
   "metadata": {},
   "source": [
    "### Imporatance of Feature in Test"
   ]
  },
  {
   "cell_type": "code",
   "execution_count": 83,
   "id": "e6fc2393",
   "metadata": {},
   "outputs": [],
   "source": [
    "x_test_fs = fs.transform(Test.drop(columns=['cnt']))\n",
    "df2 = pd.DataFrame(Test.drop(columns=['cnt']).columns,\n",
    "                   columns=['cnt'])"
   ]
  },
  {
   "cell_type": "code",
   "execution_count": 84,
   "id": "2b9bd77a",
   "metadata": {},
   "outputs": [
    {
     "data": {
      "text/html": [
       "<div>\n",
       "<style scoped>\n",
       "    .dataframe tbody tr th:only-of-type {\n",
       "        vertical-align: middle;\n",
       "    }\n",
       "\n",
       "    .dataframe tbody tr th {\n",
       "        vertical-align: top;\n",
       "    }\n",
       "\n",
       "    .dataframe thead th {\n",
       "        text-align: right;\n",
       "    }\n",
       "</style>\n",
       "<table border=\"1\" class=\"dataframe\">\n",
       "  <thead>\n",
       "    <tr style=\"text-align: right;\">\n",
       "      <th></th>\n",
       "      <th>cnt</th>\n",
       "      <th>importance</th>\n",
       "    </tr>\n",
       "  </thead>\n",
       "  <tbody>\n",
       "    <tr>\n",
       "      <th>0</th>\n",
       "      <td>temp</td>\n",
       "      <td>0.144178</td>\n",
       "    </tr>\n",
       "    <tr>\n",
       "      <th>5</th>\n",
       "      <td>yr_1</td>\n",
       "      <td>0.044457</td>\n",
       "    </tr>\n",
       "    <tr>\n",
       "      <th>1</th>\n",
       "      <td>windspeed</td>\n",
       "      <td>0.024659</td>\n",
       "    </tr>\n",
       "    <tr>\n",
       "      <th>9</th>\n",
       "      <td>mnth_8</td>\n",
       "      <td>0.019518</td>\n",
       "    </tr>\n",
       "    <tr>\n",
       "      <th>3</th>\n",
       "      <td>season_3</td>\n",
       "      <td>0.009634</td>\n",
       "    </tr>\n",
       "    <tr>\n",
       "      <th>7</th>\n",
       "      <td>mnth_6</td>\n",
       "      <td>0.007724</td>\n",
       "    </tr>\n",
       "    <tr>\n",
       "      <th>8</th>\n",
       "      <td>mnth_7</td>\n",
       "      <td>0.001750</td>\n",
       "    </tr>\n",
       "    <tr>\n",
       "      <th>10</th>\n",
       "      <td>mnth_9</td>\n",
       "      <td>0.001126</td>\n",
       "    </tr>\n",
       "    <tr>\n",
       "      <th>11</th>\n",
       "      <td>mnth_10</td>\n",
       "      <td>0.001045</td>\n",
       "    </tr>\n",
       "    <tr>\n",
       "      <th>2</th>\n",
       "      <td>season_2</td>\n",
       "      <td>0.000910</td>\n",
       "    </tr>\n",
       "    <tr>\n",
       "      <th>4</th>\n",
       "      <td>season_4</td>\n",
       "      <td>0.000604</td>\n",
       "    </tr>\n",
       "    <tr>\n",
       "      <th>6</th>\n",
       "      <td>mnth_5</td>\n",
       "      <td>0.000000</td>\n",
       "    </tr>\n",
       "  </tbody>\n",
       "</table>\n",
       "</div>"
      ],
      "text/plain": [
       "          cnt  importance\n",
       "0        temp    0.144178\n",
       "5        yr_1    0.044457\n",
       "1   windspeed    0.024659\n",
       "9      mnth_8    0.019518\n",
       "3    season_3    0.009634\n",
       "7      mnth_6    0.007724\n",
       "8      mnth_7    0.001750\n",
       "10     mnth_9    0.001126\n",
       "11    mnth_10    0.001045\n",
       "2    season_2    0.000910\n",
       "4    season_4    0.000604\n",
       "6      mnth_5    0.000000"
      ]
     },
     "execution_count": 84,
     "metadata": {},
     "output_type": "execute_result"
    }
   ],
   "source": [
    "df = pd.DataFrame(fs.scores_, columns=['importance'])\n",
    "importance2 = df2.join(df)\n",
    "importance2.sort_values('importance', ascending=False)"
   ]
  },
  {
   "cell_type": "markdown",
   "id": "3e8dedc5",
   "metadata": {},
   "source": [
    "- temo and year_1 is important"
   ]
  },
  {
   "cell_type": "markdown",
   "id": "e6511fac",
   "metadata": {},
   "source": [
    "### The features that can be used to build a model with the least difference of R squared values between the train and test data."
   ]
  },
  {
   "cell_type": "code",
   "execution_count": 85,
   "id": "9051e8c9",
   "metadata": {},
   "outputs": [],
   "source": [
    "from sklearn.feature_selection import SelectKBest\n",
    "from sklearn.feature_selection import mutual_info_regression\n",
    "from sklearn.preprocessing import StandardScaler \n",
    "\n",
    "testScores = []\n",
    "trainScores = []\n",
    "featureNames = []\n",
    "\n",
    "for i in range(1, len(Train.columns)):\n",
    "    fs = SelectKBest(score_func=mutual_info_regression, k=i)\n",
    "    fs.fit(Train.drop(columns=['cnt']), Train['cnt'])\n",
    "\n",
    "    x_train_fs = fs.transform(Train.drop(columns=['cnt']))\n",
    "    x_test_fs = fs.transform(Test.drop(columns=['cnt']))\n",
    "\n",
    "    model.fit(x_train_fs, Train['cnt'])\n",
    "   \n",
    "    testScore = model.score(x_test_fs, Test['cnt'])\n",
    "    trainScore = model.score(x_train_fs, Train['cnt'])\n",
    "    featureNames.append([feature_name for feature_name in fs.get_feature_names_out()])\n",
    "    testScores.append(testScore)\n",
    "    trainScores.append(trainScore)"
   ]
  },
  {
   "cell_type": "code",
   "execution_count": 87,
   "id": "79a5739e",
   "metadata": {},
   "outputs": [
    {
     "data": {
      "text/plain": [
       "<AxesSubplot:xlabel='numFeatures'>"
      ]
     },
     "execution_count": 87,
     "metadata": {},
     "output_type": "execute_result"
    },
    {
     "data": {
      "image/png": "[encoded data removed]",
      "text/plain": [
       "<Figure size 432x288 with 1 Axes>"
      ]
     },
     "metadata": {
      "needs_background": "light"
     },
     "output_type": "display_data"
    }
   ],
   "source": [
    "df = pd.DataFrame(data={'testScores':testScores,\n",
    "                        'trainScores':trainScores,\n",
    "                        'featureNames': featureNames})\n",
    "df.reset_index(inplace=True)\n",
    "df.rename(columns={'index':'numFeatures'}, inplace=True)\n",
    "df.numFeatures = df.numFeatures + 1\n",
    "df.plot(x='numFeatures', y=['testScores','trainScores'])"
   ]
  },
  {
   "cell_type": "code",
   "execution_count": 88,
   "id": "40490777",
   "metadata": {},
   "outputs": [
    {
     "data": {
      "text/html": [
       "<div>\n",
       "<style scoped>\n",
       "    .dataframe tbody tr th:only-of-type {\n",
       "        vertical-align: middle;\n",
       "    }\n",
       "\n",
       "    .dataframe tbody tr th {\n",
       "        vertical-align: top;\n",
       "    }\n",
       "\n",
       "    .dataframe thead th {\n",
       "        text-align: right;\n",
       "    }\n",
       "</style>\n",
       "<table border=\"1\" class=\"dataframe\">\n",
       "  <thead>\n",
       "    <tr style=\"text-align: right;\">\n",
       "      <th></th>\n",
       "      <th>numFeatures</th>\n",
       "      <th>testScores</th>\n",
       "      <th>trainScores</th>\n",
       "      <th>featureNames</th>\n",
       "    </tr>\n",
       "  </thead>\n",
       "  <tbody>\n",
       "    <tr>\n",
       "      <th>0</th>\n",
       "      <td>1</td>\n",
       "      <td>0.166963</td>\n",
       "      <td>0.162235</td>\n",
       "      <td>[temp]</td>\n",
       "    </tr>\n",
       "    <tr>\n",
       "      <th>1</th>\n",
       "      <td>2</td>\n",
       "      <td>0.210924</td>\n",
       "      <td>0.221286</td>\n",
       "      <td>[temp, yr_1]</td>\n",
       "    </tr>\n",
       "    <tr>\n",
       "      <th>2</th>\n",
       "      <td>3</td>\n",
       "      <td>0.223252</td>\n",
       "      <td>0.231620</td>\n",
       "      <td>[temp, windspeed, yr_1]</td>\n",
       "    </tr>\n",
       "    <tr>\n",
       "      <th>3</th>\n",
       "      <td>4</td>\n",
       "      <td>0.226016</td>\n",
       "      <td>0.233975</td>\n",
       "      <td>[temp, windspeed, yr_1, mnth_8]</td>\n",
       "    </tr>\n",
       "    <tr>\n",
       "      <th>4</th>\n",
       "      <td>5</td>\n",
       "      <td>0.247262</td>\n",
       "      <td>0.257670</td>\n",
       "      <td>[temp, windspeed, season_3, season_4, yr_1]</td>\n",
       "    </tr>\n",
       "    <tr>\n",
       "      <th>5</th>\n",
       "      <td>6</td>\n",
       "      <td>0.242160</td>\n",
       "      <td>0.249445</td>\n",
       "      <td>[temp, windspeed, season_3, yr_1, mnth_5, mnth_8]</td>\n",
       "    </tr>\n",
       "    <tr>\n",
       "      <th>6</th>\n",
       "      <td>7</td>\n",
       "      <td>0.246431</td>\n",
       "      <td>0.255658</td>\n",
       "      <td>[temp, windspeed, season_2, season_3, yr_1, mn...</td>\n",
       "    </tr>\n",
       "    <tr>\n",
       "      <th>7</th>\n",
       "      <td>8</td>\n",
       "      <td>0.245134</td>\n",
       "      <td>0.257756</td>\n",
       "      <td>[temp, windspeed, season_2, season_3, yr_1, mn...</td>\n",
       "    </tr>\n",
       "    <tr>\n",
       "      <th>8</th>\n",
       "      <td>9</td>\n",
       "      <td>0.253709</td>\n",
       "      <td>0.267294</td>\n",
       "      <td>[temp, windspeed, season_2, season_3, season_4...</td>\n",
       "    </tr>\n",
       "    <tr>\n",
       "      <th>9</th>\n",
       "      <td>10</td>\n",
       "      <td>0.254884</td>\n",
       "      <td>0.269353</td>\n",
       "      <td>[temp, windspeed, season_2, season_3, season_4...</td>\n",
       "    </tr>\n",
       "    <tr>\n",
       "      <th>10</th>\n",
       "      <td>11</td>\n",
       "      <td>0.255189</td>\n",
       "      <td>0.270483</td>\n",
       "      <td>[temp, windspeed, season_2, season_3, season_4...</td>\n",
       "    </tr>\n",
       "    <tr>\n",
       "      <th>11</th>\n",
       "      <td>12</td>\n",
       "      <td>0.256616</td>\n",
       "      <td>0.271567</td>\n",
       "      <td>[temp, windspeed, season_2, season_3, season_4...</td>\n",
       "    </tr>\n",
       "  </tbody>\n",
       "</table>\n",
       "</div>"
      ],
      "text/plain": [
       "    numFeatures  testScores  trainScores  \\\n",
       "0             1    0.166963     0.162235   \n",
       "1             2    0.210924     0.221286   \n",
       "2             3    0.223252     0.231620   \n",
       "3             4    0.226016     0.233975   \n",
       "4             5    0.247262     0.257670   \n",
       "5             6    0.242160     0.249445   \n",
       "6             7    0.246431     0.255658   \n",
       "7             8    0.245134     0.257756   \n",
       "8             9    0.253709     0.267294   \n",
       "9            10    0.254884     0.269353   \n",
       "10           11    0.255189     0.270483   \n",
       "11           12    0.256616     0.271567   \n",
       "\n",
       "                                         featureNames  \n",
       "0                                              [temp]  \n",
       "1                                        [temp, yr_1]  \n",
       "2                             [temp, windspeed, yr_1]  \n",
       "3                     [temp, windspeed, yr_1, mnth_8]  \n",
       "4         [temp, windspeed, season_3, season_4, yr_1]  \n",
       "5   [temp, windspeed, season_3, yr_1, mnth_5, mnth_8]  \n",
       "6   [temp, windspeed, season_2, season_3, yr_1, mn...  \n",
       "7   [temp, windspeed, season_2, season_3, yr_1, mn...  \n",
       "8   [temp, windspeed, season_2, season_3, season_4...  \n",
       "9   [temp, windspeed, season_2, season_3, season_4...  \n",
       "10  [temp, windspeed, season_2, season_3, season_4...  \n",
       "11  [temp, windspeed, season_2, season_3, season_4...  "
      ]
     },
     "execution_count": 88,
     "metadata": {},
     "output_type": "execute_result"
    }
   ],
   "source": [
    "df"
   ]
  },
  {
   "cell_type": "markdown",
   "id": "c879309d",
   "metadata": {},
   "source": [
    "We can use temp which make it least different"
   ]
  }
 ],
 "metadata": {
  "kernelspec": {
   "display_name": "Python 3",
   "language": "python",
   "name": "python3"
  },
  "language_info": {
   "codemirror_mode": {
    "name": "ipython",
    "version": 3
   },
   "file_extension": ".py",
   "mimetype": "text/x-python",
   "name": "python",
   "nbconvert_exporter": "python",
   "pygments_lexer": "ipython3",
   "version": "3.8.8"
  }
 },
 "nbformat": 4,
 "nbformat_minor": 5
}
